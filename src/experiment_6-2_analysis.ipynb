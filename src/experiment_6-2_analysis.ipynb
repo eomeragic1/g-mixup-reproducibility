{
 "cells": [
  {
   "cell_type": "markdown",
   "source": [
    "# Analysis of the results for experiment 6-2"
   ],
   "metadata": {
    "collapsed": false
   }
  },
  {
   "cell_type": "code",
   "execution_count": 1,
   "metadata": {
    "collapsed": true
   },
   "outputs": [],
   "source": [
    "import pandas as pd\n",
    "import numpy as np"
   ]
  },
  {
   "cell_type": "code",
   "execution_count": 2,
   "outputs": [],
   "source": [
    "def strip(text):\n",
    "    try:\n",
    "        return text.strip()\n",
    "    except AttributeError:\n",
    "        return text\n",
    "\n",
    "def strip_time(text):\n",
    "    return text[:6].strip()\n",
    "\n",
    "def make_int(text):\n",
    "    return int(text.strip())\n",
    "\n",
    "def make_float(text):\n",
    "    return float(text.strip())\n",
    "\n",
    "dtypes = {'Dataset': 'category',\n",
    "          'CorruptionRatio': 'category',\n",
    "          'Seed': np.int32,\n",
    "          'Aug': 'category',\n",
    "          'Type': 'category',\n",
    "          'BestEpoch': np.int32,\n",
    "          'TestAcc': np.float64,\n",
    "          'TestLoss': np.float64,\n",
    "          'ValAcc': np.float64,\n",
    "          'ValLoss': np.float64,\n",
    "          'Device': 'category',\n",
    "          'Time': np.float64\n",
    "          }\n",
    "\n",
    "converters = {'Dataset': strip,\n",
    "          'CorruptionRatio': strip,\n",
    "          'Seed': make_int,\n",
    "          'Aug': strip,\n",
    "          'Type': strip,\n",
    "          'BestEpoch': make_int,\n",
    "          'TestAcc': make_float,\n",
    "          'TestLoss': make_float,\n",
    "          'ValAcc': make_float,\n",
    "          'ValLoss': make_float,\n",
    "          'Device': strip,\n",
    "          'Time': strip_time\n",
    "          }"
   ],
   "metadata": {
    "collapsed": false
   }
  },
  {
   "cell_type": "code",
   "execution_count": 3,
   "outputs": [],
   "source": [
    "results = pd.read_csv('../results/train_log_exp5.csv', header=0, converters=converters)\n",
    "columns = [x.strip() if x!=' Model' else 'CorruptionRate' for x in list(dtypes.keys())]\n",
    "results.columns = columns\n",
    "results['Time'] = results['Time'].astype('float64')"
   ],
   "metadata": {
    "collapsed": false
   }
  },
  {
   "cell_type": "code",
   "execution_count": 4,
   "outputs": [
    {
     "data": {
      "text/plain": "         Dataset CorruptionRatio   Seed       Aug Type  BestEpoch  TestAcc  \\\n0  REDDIT-BINARY             0.1   1314   Vanilla  Add        235   0.8700   \n1  REDDIT-BINARY             0.1   1314   G-Mixup  Add        284   0.7875   \n2  REDDIT-BINARY             0.1   1314  DropEdge  Add        290   0.8900   \n3  REDDIT-BINARY             0.1  11314   Vanilla  Add        261   0.8525   \n4  REDDIT-BINARY             0.1  11314   G-Mixup  Add        276   0.8850   \n\n   TestLoss  ValAcc  ValLoss Device    Time  \n0    0.3741   0.870   0.3828   cuda   73.25  \n1    0.4709   0.765   0.4550   cuda   96.04  \n2    0.3171   0.885   0.3229   cuda  119.24  \n3    0.3177   0.880   0.3520   cuda   71.55  \n4    0.2889   0.890   0.3332   cuda   94.88  ",
      "text/html": "<div>\n<style scoped>\n    .dataframe tbody tr th:only-of-type {\n        vertical-align: middle;\n    }\n\n    .dataframe tbody tr th {\n        vertical-align: top;\n    }\n\n    .dataframe thead th {\n        text-align: right;\n    }\n</style>\n<table border=\"1\" class=\"dataframe\">\n  <thead>\n    <tr style=\"text-align: right;\">\n      <th></th>\n      <th>Dataset</th>\n      <th>CorruptionRatio</th>\n      <th>Seed</th>\n      <th>Aug</th>\n      <th>Type</th>\n      <th>BestEpoch</th>\n      <th>TestAcc</th>\n      <th>TestLoss</th>\n      <th>ValAcc</th>\n      <th>ValLoss</th>\n      <th>Device</th>\n      <th>Time</th>\n    </tr>\n  </thead>\n  <tbody>\n    <tr>\n      <th>0</th>\n      <td>REDDIT-BINARY</td>\n      <td>0.1</td>\n      <td>1314</td>\n      <td>Vanilla</td>\n      <td>Add</td>\n      <td>235</td>\n      <td>0.8700</td>\n      <td>0.3741</td>\n      <td>0.870</td>\n      <td>0.3828</td>\n      <td>cuda</td>\n      <td>73.25</td>\n    </tr>\n    <tr>\n      <th>1</th>\n      <td>REDDIT-BINARY</td>\n      <td>0.1</td>\n      <td>1314</td>\n      <td>G-Mixup</td>\n      <td>Add</td>\n      <td>284</td>\n      <td>0.7875</td>\n      <td>0.4709</td>\n      <td>0.765</td>\n      <td>0.4550</td>\n      <td>cuda</td>\n      <td>96.04</td>\n    </tr>\n    <tr>\n      <th>2</th>\n      <td>REDDIT-BINARY</td>\n      <td>0.1</td>\n      <td>1314</td>\n      <td>DropEdge</td>\n      <td>Add</td>\n      <td>290</td>\n      <td>0.8900</td>\n      <td>0.3171</td>\n      <td>0.885</td>\n      <td>0.3229</td>\n      <td>cuda</td>\n      <td>119.24</td>\n    </tr>\n    <tr>\n      <th>3</th>\n      <td>REDDIT-BINARY</td>\n      <td>0.1</td>\n      <td>11314</td>\n      <td>Vanilla</td>\n      <td>Add</td>\n      <td>261</td>\n      <td>0.8525</td>\n      <td>0.3177</td>\n      <td>0.880</td>\n      <td>0.3520</td>\n      <td>cuda</td>\n      <td>71.55</td>\n    </tr>\n    <tr>\n      <th>4</th>\n      <td>REDDIT-BINARY</td>\n      <td>0.1</td>\n      <td>11314</td>\n      <td>G-Mixup</td>\n      <td>Add</td>\n      <td>276</td>\n      <td>0.8850</td>\n      <td>0.2889</td>\n      <td>0.890</td>\n      <td>0.3332</td>\n      <td>cuda</td>\n      <td>94.88</td>\n    </tr>\n  </tbody>\n</table>\n</div>"
     },
     "execution_count": 4,
     "metadata": {},
     "output_type": "execute_result"
    }
   ],
   "source": [
    "results.head()"
   ],
   "metadata": {
    "collapsed": false
   }
  },
  {
   "cell_type": "code",
   "execution_count": 5,
   "outputs": [
    {
     "data": {
      "text/plain": "                                               TestAcc            \\\n                                                  mean       std   \nType   Aug      Dataset       CorruptionRatio                      \nAdd    DropEdge REDDIT-BINARY 0.1              0.79750  0.069332   \n                              0.2              0.81025  0.068297   \n                              0.3              0.80500  0.049385   \n                              0.4              0.79150  0.038028   \n       G-Mixup  REDDIT-BINARY 0.1              0.85825  0.036402   \n                              0.2              0.82250  0.065944   \n                              0.3              0.82075  0.048334   \n                              0.4              0.81125  0.041420   \n       Vanilla  REDDIT-BINARY 0.1              0.82375  0.053167   \n                              0.2              0.82050  0.050919   \n                              0.3              0.81200  0.062448   \n                              0.4              0.82000  0.048117   \nRemove DropEdge REDDIT-BINARY 0.1              0.81600  0.052071   \n                              0.2              0.80400  0.054431   \n                              0.3              0.77750  0.046845   \n                              0.4              0.75400  0.036708   \n       G-Mixup  REDDIT-BINARY 0.1              0.82250  0.045567   \n                              0.2              0.81350  0.034685   \n                              0.3              0.78850  0.045965   \n                              0.4              0.76350  0.050211   \n       Vanilla  REDDIT-BINARY 0.1              0.82150  0.045049   \n                              0.2              0.78950  0.045564   \n                              0.3              0.77500  0.060725   \n                              0.4              0.75025  0.034850   \n\n                                                                Time  \\\n                                              count_nonzero     mean   \nType   Aug      Dataset       CorruptionRatio                          \nAdd    DropEdge REDDIT-BINARY 0.1                        10  119.201   \n                              0.2                        10  120.805   \n                              0.3                        10  122.693   \n                              0.4                        10  124.571   \n       G-Mixup  REDDIT-BINARY 0.1                        10   95.983   \n                              0.2                        10   97.512   \n                              0.3                        10   99.233   \n                              0.4                        10  101.211   \n       Vanilla  REDDIT-BINARY 0.1                        10   72.274   \n                              0.2                        10   73.665   \n                              0.3                        10   75.280   \n                              0.4                        10   76.945   \nRemove DropEdge REDDIT-BINARY 0.1                        10  114.644   \n                              0.2                        10  112.637   \n                              0.3                        10  110.774   \n                              0.4                        10  108.364   \n       G-Mixup  REDDIT-BINARY 0.1                        10   91.994   \n                              0.2                        10   89.930   \n                              0.3                        10   88.005   \n                              0.4                        10   85.988   \n       Vanilla  REDDIT-BINARY 0.1                        10   68.604   \n                              0.2                        10   66.753   \n                              0.3                        10   64.905   \n                              0.4                        10   63.058   \n\n                                                                       \n                                                    std count_nonzero  \nType   Aug      Dataset       CorruptionRatio                          \nAdd    DropEdge REDDIT-BINARY 0.1              0.685086            10  \n                              0.2              0.775002            10  \n                              0.3              0.707045            10  \n                              0.4              0.855900            10  \n       G-Mixup  REDDIT-BINARY 0.1              0.814099            10  \n                              0.2              0.857669            10  \n                              0.3              0.991576            10  \n                              0.4              0.978439            10  \n       Vanilla  REDDIT-BINARY 0.1              0.565964            10  \n                              0.2              0.494396            10  \n                              0.3              0.594979            10  \n                              0.4              0.596084            10  \nRemove DropEdge REDDIT-BINARY 0.1              0.676251            10  \n                              0.2              0.503985            10  \n                              0.3              0.466481            10  \n                              0.4              0.441190            10  \n       G-Mixup  REDDIT-BINARY 0.1              0.762790            10  \n                              0.2              0.816660            10  \n                              0.3              0.774342            10  \n                              0.4              0.638554            10  \n       Vanilla  REDDIT-BINARY 0.1              0.421616            10  \n                              0.2              0.390044            10  \n                              0.3              0.354189            10  \n                              0.4              0.284285            10  ",
      "text/html": "<div>\n<style scoped>\n    .dataframe tbody tr th:only-of-type {\n        vertical-align: middle;\n    }\n\n    .dataframe tbody tr th {\n        vertical-align: top;\n    }\n\n    .dataframe thead tr th {\n        text-align: left;\n    }\n\n    .dataframe thead tr:last-of-type th {\n        text-align: right;\n    }\n</style>\n<table border=\"1\" class=\"dataframe\">\n  <thead>\n    <tr>\n      <th></th>\n      <th></th>\n      <th></th>\n      <th></th>\n      <th colspan=\"3\" halign=\"left\">TestAcc</th>\n      <th colspan=\"3\" halign=\"left\">Time</th>\n    </tr>\n    <tr>\n      <th></th>\n      <th></th>\n      <th></th>\n      <th></th>\n      <th>mean</th>\n      <th>std</th>\n      <th>count_nonzero</th>\n      <th>mean</th>\n      <th>std</th>\n      <th>count_nonzero</th>\n    </tr>\n    <tr>\n      <th>Type</th>\n      <th>Aug</th>\n      <th>Dataset</th>\n      <th>CorruptionRatio</th>\n      <th></th>\n      <th></th>\n      <th></th>\n      <th></th>\n      <th></th>\n      <th></th>\n    </tr>\n  </thead>\n  <tbody>\n    <tr>\n      <th rowspan=\"12\" valign=\"top\">Add</th>\n      <th rowspan=\"4\" valign=\"top\">DropEdge</th>\n      <th rowspan=\"4\" valign=\"top\">REDDIT-BINARY</th>\n      <th>0.1</th>\n      <td>0.79750</td>\n      <td>0.069332</td>\n      <td>10</td>\n      <td>119.201</td>\n      <td>0.685086</td>\n      <td>10</td>\n    </tr>\n    <tr>\n      <th>0.2</th>\n      <td>0.81025</td>\n      <td>0.068297</td>\n      <td>10</td>\n      <td>120.805</td>\n      <td>0.775002</td>\n      <td>10</td>\n    </tr>\n    <tr>\n      <th>0.3</th>\n      <td>0.80500</td>\n      <td>0.049385</td>\n      <td>10</td>\n      <td>122.693</td>\n      <td>0.707045</td>\n      <td>10</td>\n    </tr>\n    <tr>\n      <th>0.4</th>\n      <td>0.79150</td>\n      <td>0.038028</td>\n      <td>10</td>\n      <td>124.571</td>\n      <td>0.855900</td>\n      <td>10</td>\n    </tr>\n    <tr>\n      <th rowspan=\"4\" valign=\"top\">G-Mixup</th>\n      <th rowspan=\"4\" valign=\"top\">REDDIT-BINARY</th>\n      <th>0.1</th>\n      <td>0.85825</td>\n      <td>0.036402</td>\n      <td>10</td>\n      <td>95.983</td>\n      <td>0.814099</td>\n      <td>10</td>\n    </tr>\n    <tr>\n      <th>0.2</th>\n      <td>0.82250</td>\n      <td>0.065944</td>\n      <td>10</td>\n      <td>97.512</td>\n      <td>0.857669</td>\n      <td>10</td>\n    </tr>\n    <tr>\n      <th>0.3</th>\n      <td>0.82075</td>\n      <td>0.048334</td>\n      <td>10</td>\n      <td>99.233</td>\n      <td>0.991576</td>\n      <td>10</td>\n    </tr>\n    <tr>\n      <th>0.4</th>\n      <td>0.81125</td>\n      <td>0.041420</td>\n      <td>10</td>\n      <td>101.211</td>\n      <td>0.978439</td>\n      <td>10</td>\n    </tr>\n    <tr>\n      <th rowspan=\"4\" valign=\"top\">Vanilla</th>\n      <th rowspan=\"4\" valign=\"top\">REDDIT-BINARY</th>\n      <th>0.1</th>\n      <td>0.82375</td>\n      <td>0.053167</td>\n      <td>10</td>\n      <td>72.274</td>\n      <td>0.565964</td>\n      <td>10</td>\n    </tr>\n    <tr>\n      <th>0.2</th>\n      <td>0.82050</td>\n      <td>0.050919</td>\n      <td>10</td>\n      <td>73.665</td>\n      <td>0.494396</td>\n      <td>10</td>\n    </tr>\n    <tr>\n      <th>0.3</th>\n      <td>0.81200</td>\n      <td>0.062448</td>\n      <td>10</td>\n      <td>75.280</td>\n      <td>0.594979</td>\n      <td>10</td>\n    </tr>\n    <tr>\n      <th>0.4</th>\n      <td>0.82000</td>\n      <td>0.048117</td>\n      <td>10</td>\n      <td>76.945</td>\n      <td>0.596084</td>\n      <td>10</td>\n    </tr>\n    <tr>\n      <th rowspan=\"12\" valign=\"top\">Remove</th>\n      <th rowspan=\"4\" valign=\"top\">DropEdge</th>\n      <th rowspan=\"4\" valign=\"top\">REDDIT-BINARY</th>\n      <th>0.1</th>\n      <td>0.81600</td>\n      <td>0.052071</td>\n      <td>10</td>\n      <td>114.644</td>\n      <td>0.676251</td>\n      <td>10</td>\n    </tr>\n    <tr>\n      <th>0.2</th>\n      <td>0.80400</td>\n      <td>0.054431</td>\n      <td>10</td>\n      <td>112.637</td>\n      <td>0.503985</td>\n      <td>10</td>\n    </tr>\n    <tr>\n      <th>0.3</th>\n      <td>0.77750</td>\n      <td>0.046845</td>\n      <td>10</td>\n      <td>110.774</td>\n      <td>0.466481</td>\n      <td>10</td>\n    </tr>\n    <tr>\n      <th>0.4</th>\n      <td>0.75400</td>\n      <td>0.036708</td>\n      <td>10</td>\n      <td>108.364</td>\n      <td>0.441190</td>\n      <td>10</td>\n    </tr>\n    <tr>\n      <th rowspan=\"4\" valign=\"top\">G-Mixup</th>\n      <th rowspan=\"4\" valign=\"top\">REDDIT-BINARY</th>\n      <th>0.1</th>\n      <td>0.82250</td>\n      <td>0.045567</td>\n      <td>10</td>\n      <td>91.994</td>\n      <td>0.762790</td>\n      <td>10</td>\n    </tr>\n    <tr>\n      <th>0.2</th>\n      <td>0.81350</td>\n      <td>0.034685</td>\n      <td>10</td>\n      <td>89.930</td>\n      <td>0.816660</td>\n      <td>10</td>\n    </tr>\n    <tr>\n      <th>0.3</th>\n      <td>0.78850</td>\n      <td>0.045965</td>\n      <td>10</td>\n      <td>88.005</td>\n      <td>0.774342</td>\n      <td>10</td>\n    </tr>\n    <tr>\n      <th>0.4</th>\n      <td>0.76350</td>\n      <td>0.050211</td>\n      <td>10</td>\n      <td>85.988</td>\n      <td>0.638554</td>\n      <td>10</td>\n    </tr>\n    <tr>\n      <th rowspan=\"4\" valign=\"top\">Vanilla</th>\n      <th rowspan=\"4\" valign=\"top\">REDDIT-BINARY</th>\n      <th>0.1</th>\n      <td>0.82150</td>\n      <td>0.045049</td>\n      <td>10</td>\n      <td>68.604</td>\n      <td>0.421616</td>\n      <td>10</td>\n    </tr>\n    <tr>\n      <th>0.2</th>\n      <td>0.78950</td>\n      <td>0.045564</td>\n      <td>10</td>\n      <td>66.753</td>\n      <td>0.390044</td>\n      <td>10</td>\n    </tr>\n    <tr>\n      <th>0.3</th>\n      <td>0.77500</td>\n      <td>0.060725</td>\n      <td>10</td>\n      <td>64.905</td>\n      <td>0.354189</td>\n      <td>10</td>\n    </tr>\n    <tr>\n      <th>0.4</th>\n      <td>0.75025</td>\n      <td>0.034850</td>\n      <td>10</td>\n      <td>63.058</td>\n      <td>0.284285</td>\n      <td>10</td>\n    </tr>\n  </tbody>\n</table>\n</div>"
     },
     "execution_count": 5,
     "metadata": {},
     "output_type": "execute_result"
    }
   ],
   "source": [
    "grouped = results.drop(['Device'], axis=1).groupby(['Type', 'Aug', 'Dataset', 'CorruptionRatio']).agg([np.mean, np.std, np.count_nonzero]).loc[:,['TestAcc', 'Time']]\n",
    "grouped"
   ],
   "metadata": {
    "collapsed": false
   }
  },
  {
   "cell_type": "markdown",
   "source": [
    "# Total GPU Hours"
   ],
   "metadata": {
    "collapsed": false
   }
  },
  {
   "cell_type": "code",
   "execution_count": 6,
   "outputs": [
    {
     "data": {
      "text/plain": "            Time\n             sum\nDevice          \ncuda    6.236192",
      "text/html": "<div>\n<style scoped>\n    .dataframe tbody tr th:only-of-type {\n        vertical-align: middle;\n    }\n\n    .dataframe tbody tr th {\n        vertical-align: top;\n    }\n\n    .dataframe thead tr th {\n        text-align: left;\n    }\n\n    .dataframe thead tr:last-of-type th {\n        text-align: right;\n    }\n</style>\n<table border=\"1\" class=\"dataframe\">\n  <thead>\n    <tr>\n      <th></th>\n      <th>Time</th>\n    </tr>\n    <tr>\n      <th></th>\n      <th>sum</th>\n    </tr>\n    <tr>\n      <th>Device</th>\n      <th></th>\n    </tr>\n  </thead>\n  <tbody>\n    <tr>\n      <th>cuda</th>\n      <td>6.236192</td>\n    </tr>\n  </tbody>\n</table>\n</div>"
     },
     "execution_count": 6,
     "metadata": {},
     "output_type": "execute_result"
    }
   ],
   "source": [
    "grouped = results.groupby(['Device']).agg([np.sum]).loc[:,['Time']] / (60*60)\n",
    "grouped"
   ],
   "metadata": {
    "collapsed": false
   }
  }
 ],
 "metadata": {
  "kernelspec": {
   "display_name": "Python 3",
   "language": "python",
   "name": "python3"
  },
  "language_info": {
   "codemirror_mode": {
    "name": "ipython",
    "version": 2
   },
   "file_extension": ".py",
   "mimetype": "text/x-python",
   "name": "python",
   "nbconvert_exporter": "python",
   "pygments_lexer": "ipython2",
   "version": "2.7.6"
  }
 },
 "nbformat": 4,
 "nbformat_minor": 0
}
