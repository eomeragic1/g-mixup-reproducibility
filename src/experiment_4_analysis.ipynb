{
 "cells": [
  {
   "cell_type": "markdown",
   "source": [
    "# Analysis of the results of experiment 4"
   ],
   "metadata": {
    "collapsed": false
   }
  },
  {
   "cell_type": "code",
   "execution_count": 2,
   "metadata": {
    "collapsed": true
   },
   "outputs": [],
   "source": [
    "import pandas as pd\n",
    "import numpy as np"
   ]
  },
  {
   "cell_type": "code",
   "execution_count": 8,
   "outputs": [],
   "source": [
    "def strip(text):\n",
    "    try:\n",
    "        return text.strip()\n",
    "    except AttributeError:\n",
    "        return text\n",
    "\n",
    "def strip_time(text):\n",
    "    return text[:6].strip()\n",
    "\n",
    "def make_int(text):\n",
    "    return int(text.strip())\n",
    "\n",
    "def make_float(text):\n",
    "    return float(text.strip())\n",
    "\n",
    "dtypes = {'Dataset': 'category',\n",
    "          ' Model': 'category',\n",
    "          ' Seed': np.int32,\n",
    "          ' Aug': 'category',\n",
    "          ' BestEpoch': np.int32,\n",
    "          ' TestAcc': np.float64,\n",
    "          ' TestLoss': np.float64,\n",
    "          ' ValAcc': np.float64,\n",
    "          ' ValLoss': np.float64,\n",
    "          ' Device': 'category',\n",
    "          ' Time': np.float64\n",
    "          }\n",
    "\n",
    "converters = {'Dataset': strip,\n",
    "          ' Model': strip,\n",
    "          ' Seed': make_int,\n",
    "          ' Aug': strip,\n",
    "          ' BestEpoch': make_int,\n",
    "          ' TestAcc': make_float,\n",
    "          ' TestLoss': make_float,\n",
    "          ' ValAcc': make_float,\n",
    "          ' ValLoss': make_float,\n",
    "          ' Device': strip,\n",
    "          ' Time': strip_time\n",
    "          }"
   ],
   "metadata": {
    "collapsed": false
   }
  },
  {
   "cell_type": "code",
   "execution_count": 9,
   "outputs": [],
   "source": [
    "results = pd.read_csv('../results/train_log_exp4.csv', header=0, converters=converters)\n",
    "columns = [x.strip() if x!=' Model' else 'CorruptionRate' for x in list(dtypes.keys())]\n",
    "results.columns = columns"
   ],
   "metadata": {
    "collapsed": false
   }
  },
  {
   "cell_type": "code",
   "execution_count": 10,
   "outputs": [
    {
     "data": {
      "text/plain": "       Dataset CorruptionRate   Seed       Aug  BestEpoch  TestAcc  TestLoss  \\\n0  IMDB-BINARY            0.1   1314   Vanilla          3    0.750    0.5470   \n1  IMDB-BINARY            0.1   1314   G-Mixup         97    0.770    0.6438   \n2  IMDB-BINARY            0.1   1314  DropEdge         50    0.695    0.6012   \n3  IMDB-BINARY            0.1  11314   Vanilla          6    0.700    0.5459   \n4  IMDB-BINARY            0.1  11314   G-Mixup         14    0.720    0.5076   \n\n   ValAcc  ValLoss Device   Time  \n0    0.67   0.5820   cuda  20.24  \n1    0.69   0.6946   cuda  18.49  \n2    0.68   0.6460   cuda  38.50  \n3    0.75   0.5567   cuda  16.25  \n4    0.73   0.5540   cuda  18.61  ",
      "text/html": "<div>\n<style scoped>\n    .dataframe tbody tr th:only-of-type {\n        vertical-align: middle;\n    }\n\n    .dataframe tbody tr th {\n        vertical-align: top;\n    }\n\n    .dataframe thead th {\n        text-align: right;\n    }\n</style>\n<table border=\"1\" class=\"dataframe\">\n  <thead>\n    <tr style=\"text-align: right;\">\n      <th></th>\n      <th>Dataset</th>\n      <th>CorruptionRate</th>\n      <th>Seed</th>\n      <th>Aug</th>\n      <th>BestEpoch</th>\n      <th>TestAcc</th>\n      <th>TestLoss</th>\n      <th>ValAcc</th>\n      <th>ValLoss</th>\n      <th>Device</th>\n      <th>Time</th>\n    </tr>\n  </thead>\n  <tbody>\n    <tr>\n      <th>0</th>\n      <td>IMDB-BINARY</td>\n      <td>0.1</td>\n      <td>1314</td>\n      <td>Vanilla</td>\n      <td>3</td>\n      <td>0.750</td>\n      <td>0.5470</td>\n      <td>0.67</td>\n      <td>0.5820</td>\n      <td>cuda</td>\n      <td>20.24</td>\n    </tr>\n    <tr>\n      <th>1</th>\n      <td>IMDB-BINARY</td>\n      <td>0.1</td>\n      <td>1314</td>\n      <td>G-Mixup</td>\n      <td>97</td>\n      <td>0.770</td>\n      <td>0.6438</td>\n      <td>0.69</td>\n      <td>0.6946</td>\n      <td>cuda</td>\n      <td>18.49</td>\n    </tr>\n    <tr>\n      <th>2</th>\n      <td>IMDB-BINARY</td>\n      <td>0.1</td>\n      <td>1314</td>\n      <td>DropEdge</td>\n      <td>50</td>\n      <td>0.695</td>\n      <td>0.6012</td>\n      <td>0.68</td>\n      <td>0.6460</td>\n      <td>cuda</td>\n      <td>38.50</td>\n    </tr>\n    <tr>\n      <th>3</th>\n      <td>IMDB-BINARY</td>\n      <td>0.1</td>\n      <td>11314</td>\n      <td>Vanilla</td>\n      <td>6</td>\n      <td>0.700</td>\n      <td>0.5459</td>\n      <td>0.75</td>\n      <td>0.5567</td>\n      <td>cuda</td>\n      <td>16.25</td>\n    </tr>\n    <tr>\n      <th>4</th>\n      <td>IMDB-BINARY</td>\n      <td>0.1</td>\n      <td>11314</td>\n      <td>G-Mixup</td>\n      <td>14</td>\n      <td>0.720</td>\n      <td>0.5076</td>\n      <td>0.73</td>\n      <td>0.5540</td>\n      <td>cuda</td>\n      <td>18.61</td>\n    </tr>\n  </tbody>\n</table>\n</div>"
     },
     "execution_count": 10,
     "metadata": {},
     "output_type": "execute_result"
    }
   ],
   "source": [
    "results.head()"
   ],
   "metadata": {
    "collapsed": false
   }
  },
  {
   "cell_type": "code",
   "execution_count": 11,
   "outputs": [
    {
     "name": "stderr",
     "output_type": "stream",
     "text": [
      "/tmp/ipykernel_39547/2630695012.py:1: FutureWarning: ['Device', 'Time'] did not aggregate successfully. If any error is raised this will raise in a future version of pandas. Drop these columns/ops to avoid this warning.\n",
      "  grouped = results.groupby(['Dataset', 'CorruptionRate', 'Aug']).agg([np.mean, np.std, np.count_nonzero]).loc[:,['TestAcc']]\n"
     ]
    },
    {
     "data": {
      "text/plain": "                                       TestAcc                        \n                                          mean       std count_nonzero\nDataset       CorruptionRate Aug                                      \nIMDB-BINARY   0.1            DropEdge  0.70000  0.037786            10\n                             G-Mixup   0.71050  0.045120            10\n                             Vanilla   0.72050  0.041663            10\n              0.2            DropEdge  0.68000  0.045277            10\n                             G-Mixup   0.69500  0.046547            10\n                             Vanilla   0.67650  0.042101            10\n              0.3            DropEdge  0.67250  0.044237            10\n                             G-Mixup   0.68600  0.043512            10\n                             Vanilla   0.66400  0.036040            10\n              0.4            DropEdge  0.59750  0.041180            10\n                             G-Mixup   0.65700  0.042830            10\n                             Vanilla   0.62650  0.052865            10\nREDDIT-BINARY 0.1            DropEdge  0.79375  0.066387            10\n                             G-Mixup   0.78650  0.038083            10\n                             Vanilla   0.81350  0.055367            10\n              0.2            DropEdge  0.76025  0.049574            10\n                             G-Mixup   0.76850  0.029444            10\n                             Vanilla   0.77100  0.053088            10\n              0.3            DropEdge  0.76975  0.051390            10\n                             G-Mixup   0.73850  0.037066            10\n                             Vanilla   0.74575  0.038605            10\n              0.4            DropEdge  0.71675  0.047288            10\n                             G-Mixup   0.72250  0.026900            10\n                             Vanilla   0.72075  0.039494            10",
      "text/html": "<div>\n<style scoped>\n    .dataframe tbody tr th:only-of-type {\n        vertical-align: middle;\n    }\n\n    .dataframe tbody tr th {\n        vertical-align: top;\n    }\n\n    .dataframe thead tr th {\n        text-align: left;\n    }\n\n    .dataframe thead tr:last-of-type th {\n        text-align: right;\n    }\n</style>\n<table border=\"1\" class=\"dataframe\">\n  <thead>\n    <tr>\n      <th></th>\n      <th></th>\n      <th></th>\n      <th colspan=\"3\" halign=\"left\">TestAcc</th>\n    </tr>\n    <tr>\n      <th></th>\n      <th></th>\n      <th></th>\n      <th>mean</th>\n      <th>std</th>\n      <th>count_nonzero</th>\n    </tr>\n    <tr>\n      <th>Dataset</th>\n      <th>CorruptionRate</th>\n      <th>Aug</th>\n      <th></th>\n      <th></th>\n      <th></th>\n    </tr>\n  </thead>\n  <tbody>\n    <tr>\n      <th rowspan=\"12\" valign=\"top\">IMDB-BINARY</th>\n      <th rowspan=\"3\" valign=\"top\">0.1</th>\n      <th>DropEdge</th>\n      <td>0.70000</td>\n      <td>0.037786</td>\n      <td>10</td>\n    </tr>\n    <tr>\n      <th>G-Mixup</th>\n      <td>0.71050</td>\n      <td>0.045120</td>\n      <td>10</td>\n    </tr>\n    <tr>\n      <th>Vanilla</th>\n      <td>0.72050</td>\n      <td>0.041663</td>\n      <td>10</td>\n    </tr>\n    <tr>\n      <th rowspan=\"3\" valign=\"top\">0.2</th>\n      <th>DropEdge</th>\n      <td>0.68000</td>\n      <td>0.045277</td>\n      <td>10</td>\n    </tr>\n    <tr>\n      <th>G-Mixup</th>\n      <td>0.69500</td>\n      <td>0.046547</td>\n      <td>10</td>\n    </tr>\n    <tr>\n      <th>Vanilla</th>\n      <td>0.67650</td>\n      <td>0.042101</td>\n      <td>10</td>\n    </tr>\n    <tr>\n      <th rowspan=\"3\" valign=\"top\">0.3</th>\n      <th>DropEdge</th>\n      <td>0.67250</td>\n      <td>0.044237</td>\n      <td>10</td>\n    </tr>\n    <tr>\n      <th>G-Mixup</th>\n      <td>0.68600</td>\n      <td>0.043512</td>\n      <td>10</td>\n    </tr>\n    <tr>\n      <th>Vanilla</th>\n      <td>0.66400</td>\n      <td>0.036040</td>\n      <td>10</td>\n    </tr>\n    <tr>\n      <th rowspan=\"3\" valign=\"top\">0.4</th>\n      <th>DropEdge</th>\n      <td>0.59750</td>\n      <td>0.041180</td>\n      <td>10</td>\n    </tr>\n    <tr>\n      <th>G-Mixup</th>\n      <td>0.65700</td>\n      <td>0.042830</td>\n      <td>10</td>\n    </tr>\n    <tr>\n      <th>Vanilla</th>\n      <td>0.62650</td>\n      <td>0.052865</td>\n      <td>10</td>\n    </tr>\n    <tr>\n      <th rowspan=\"12\" valign=\"top\">REDDIT-BINARY</th>\n      <th rowspan=\"3\" valign=\"top\">0.1</th>\n      <th>DropEdge</th>\n      <td>0.79375</td>\n      <td>0.066387</td>\n      <td>10</td>\n    </tr>\n    <tr>\n      <th>G-Mixup</th>\n      <td>0.78650</td>\n      <td>0.038083</td>\n      <td>10</td>\n    </tr>\n    <tr>\n      <th>Vanilla</th>\n      <td>0.81350</td>\n      <td>0.055367</td>\n      <td>10</td>\n    </tr>\n    <tr>\n      <th rowspan=\"3\" valign=\"top\">0.2</th>\n      <th>DropEdge</th>\n      <td>0.76025</td>\n      <td>0.049574</td>\n      <td>10</td>\n    </tr>\n    <tr>\n      <th>G-Mixup</th>\n      <td>0.76850</td>\n      <td>0.029444</td>\n      <td>10</td>\n    </tr>\n    <tr>\n      <th>Vanilla</th>\n      <td>0.77100</td>\n      <td>0.053088</td>\n      <td>10</td>\n    </tr>\n    <tr>\n      <th rowspan=\"3\" valign=\"top\">0.3</th>\n      <th>DropEdge</th>\n      <td>0.76975</td>\n      <td>0.051390</td>\n      <td>10</td>\n    </tr>\n    <tr>\n      <th>G-Mixup</th>\n      <td>0.73850</td>\n      <td>0.037066</td>\n      <td>10</td>\n    </tr>\n    <tr>\n      <th>Vanilla</th>\n      <td>0.74575</td>\n      <td>0.038605</td>\n      <td>10</td>\n    </tr>\n    <tr>\n      <th rowspan=\"3\" valign=\"top\">0.4</th>\n      <th>DropEdge</th>\n      <td>0.71675</td>\n      <td>0.047288</td>\n      <td>10</td>\n    </tr>\n    <tr>\n      <th>G-Mixup</th>\n      <td>0.72250</td>\n      <td>0.026900</td>\n      <td>10</td>\n    </tr>\n    <tr>\n      <th>Vanilla</th>\n      <td>0.72075</td>\n      <td>0.039494</td>\n      <td>10</td>\n    </tr>\n  </tbody>\n</table>\n</div>"
     },
     "execution_count": 11,
     "metadata": {},
     "output_type": "execute_result"
    }
   ],
   "source": [
    "grouped = results.groupby(['Dataset', 'CorruptionRate', 'Aug']).agg([np.mean, np.std, np.count_nonzero]).loc[:,['TestAcc']]\n",
    "grouped"
   ],
   "metadata": {
    "collapsed": false
   }
  }
 ],
 "metadata": {
  "kernelspec": {
   "display_name": "Python 3",
   "language": "python",
   "name": "python3"
  },
  "language_info": {
   "codemirror_mode": {
    "name": "ipython",
    "version": 2
   },
   "file_extension": ".py",
   "mimetype": "text/x-python",
   "name": "python",
   "nbconvert_exporter": "python",
   "pygments_lexer": "ipython2",
   "version": "2.7.6"
  }
 },
 "nbformat": 4,
 "nbformat_minor": 0
}
