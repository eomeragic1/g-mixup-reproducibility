{
 "cells": [
  {
   "cell_type": "markdown",
   "source": [
    "# Analysis of the results of experiment 4"
   ],
   "metadata": {
    "collapsed": false
   }
  },
  {
   "cell_type": "code",
   "execution_count": 1,
   "metadata": {
    "collapsed": true
   },
   "outputs": [],
   "source": [
    "import pandas as pd\n",
    "import numpy as np"
   ]
  },
  {
   "cell_type": "code",
   "execution_count": 2,
   "outputs": [],
   "source": [
    "def strip(text):\n",
    "    try:\n",
    "        return text.strip()\n",
    "    except AttributeError:\n",
    "        return text\n",
    "\n",
    "def strip_time(text):\n",
    "    return text[:6].strip()\n",
    "\n",
    "def make_int(text):\n",
    "    return int(text.strip())\n",
    "\n",
    "def make_float(text):\n",
    "    return float(text.strip())\n",
    "\n",
    "dtypes = {'Dataset': 'category',\n",
    "          ' Model': 'category',\n",
    "          ' Seed': np.int32,\n",
    "          ' Aug': 'category',\n",
    "          ' BestEpoch': np.int32,\n",
    "          ' TestAcc': np.float64,\n",
    "          ' TestLoss': np.float64,\n",
    "          ' ValAcc': np.float64,\n",
    "          ' ValLoss': np.float64,\n",
    "          ' Device': 'category',\n",
    "          ' Time': np.float64\n",
    "          }\n",
    "\n",
    "converters = {'Dataset': strip,\n",
    "          ' Model': strip,\n",
    "          ' Seed': make_int,\n",
    "          ' Aug': strip,\n",
    "          ' BestEpoch': make_int,\n",
    "          ' TestAcc': make_float,\n",
    "          ' TestLoss': make_float,\n",
    "          ' ValAcc': make_float,\n",
    "          ' ValLoss': make_float,\n",
    "          ' Device': strip,\n",
    "          ' Time': strip_time\n",
    "          }"
   ],
   "metadata": {
    "collapsed": false
   }
  },
  {
   "cell_type": "code",
   "execution_count": 3,
   "outputs": [],
   "source": [
    "results = pd.read_csv('../results/train_log_exp4.csv', header=0, converters=converters)\n",
    "columns = [x.strip() if x!=' Model' else 'CorruptionRate' for x in list(dtypes.keys())]\n",
    "results.columns = columns"
   ],
   "metadata": {
    "collapsed": false
   }
  },
  {
   "cell_type": "code",
   "execution_count": 7,
   "outputs": [],
   "source": [
    "results.head()\n",
    "results['Time'] = results['Time'].astype('float64')"
   ],
   "metadata": {
    "collapsed": false
   }
  },
  {
   "cell_type": "code",
   "execution_count": 8,
   "outputs": [
    {
     "name": "stderr",
     "output_type": "stream",
     "text": [
      "C:\\Users\\ermin.omeragic\\AppData\\Local\\Temp\\ipykernel_4904\\550003651.py:1: FutureWarning: ['Device'] did not aggregate successfully. If any error is raised this will raise in a future version of pandas. Drop these columns/ops to avoid this warning.\n",
      "  grouped = results.groupby(['Dataset', 'CorruptionRate', 'Aug']).agg([np.mean, np.std, np.count_nonzero]).loc[:,['TestAcc', 'Time']]\n"
     ]
    },
    {
     "data": {
      "text/plain": "                                       TestAcc                          \\\n                                          mean       std count_nonzero   \nDataset       CorruptionRate Aug                                         \nIMDB-BINARY   0.1            DropEdge  0.70000  0.037786            10   \n                             G-Mixup   0.71050  0.045120            10   \n                             Vanilla   0.72050  0.041663            10   \n              0.2            DropEdge  0.68000  0.045277            10   \n                             G-Mixup   0.69500  0.046547            10   \n                             Vanilla   0.67650  0.042101            10   \n              0.3            DropEdge  0.67250  0.044237            10   \n                             G-Mixup   0.68600  0.043512            10   \n                             Vanilla   0.66400  0.036040            10   \n              0.4            DropEdge  0.59750  0.041180            10   \n                             G-Mixup   0.65700  0.042830            10   \n                             Vanilla   0.62650  0.052865            10   \nREDDIT-BINARY 0.1            DropEdge  0.79375  0.066387            10   \n                             G-Mixup   0.78650  0.038083            10   \n                             Vanilla   0.81350  0.055367            10   \n              0.2            DropEdge  0.76025  0.049574            10   \n                             G-Mixup   0.76850  0.029444            10   \n                             Vanilla   0.77100  0.053088            10   \n              0.3            DropEdge  0.76975  0.051390            10   \n                             G-Mixup   0.73850  0.037066            10   \n                             Vanilla   0.74575  0.038605            10   \n              0.4            DropEdge  0.71675  0.047288            10   \n                             G-Mixup   0.72250  0.026900            10   \n                             Vanilla   0.72075  0.039494            10   \n\n                                          Time                          \n                                          mean       std count_nonzero  \nDataset       CorruptionRate Aug                                        \nIMDB-BINARY   0.1            DropEdge   38.121  0.773153            10  \n                             G-Mixup    18.647  0.261026            10  \n                             Vanilla    16.798  1.254120            10  \n              0.2            DropEdge   35.925  0.483925            10  \n                             G-Mixup    17.052  0.138146            10  \n                             Vanilla    14.990  0.109341            10  \n              0.3            DropEdge   35.777  0.158188            10  \n                             G-Mixup    17.043  0.118795            10  \n                             Vanilla    15.002  0.073907            10  \n              0.4            DropEdge   35.732  0.270752            10  \n                             G-Mixup    17.065  0.064679            10  \n                             Vanilla    14.978  0.047329            10  \nREDDIT-BINARY 0.1            DropEdge  116.650  0.523344            10  \n                             G-Mixup    98.347  0.951794            10  \n                             Vanilla    74.104  0.448657            10  \n              0.2            DropEdge  120.650  6.294310            10  \n                             G-Mixup   101.878  6.371033            10  \n                             Vanilla    76.199  4.246875            10  \n              0.3            DropEdge  117.570  0.503433            10  \n                             G-Mixup    98.946  0.826589            10  \n                             Vanilla    74.579  0.470212            10  \n              0.4            DropEdge  120.610  5.406467            10  \n                             G-Mixup   100.186  3.346790            10  \n                             Vanilla    76.081  4.052534            10  ",
      "text/html": "<div>\n<style scoped>\n    .dataframe tbody tr th:only-of-type {\n        vertical-align: middle;\n    }\n\n    .dataframe tbody tr th {\n        vertical-align: top;\n    }\n\n    .dataframe thead tr th {\n        text-align: left;\n    }\n\n    .dataframe thead tr:last-of-type th {\n        text-align: right;\n    }\n</style>\n<table border=\"1\" class=\"dataframe\">\n  <thead>\n    <tr>\n      <th></th>\n      <th></th>\n      <th></th>\n      <th colspan=\"3\" halign=\"left\">TestAcc</th>\n      <th colspan=\"3\" halign=\"left\">Time</th>\n    </tr>\n    <tr>\n      <th></th>\n      <th></th>\n      <th></th>\n      <th>mean</th>\n      <th>std</th>\n      <th>count_nonzero</th>\n      <th>mean</th>\n      <th>std</th>\n      <th>count_nonzero</th>\n    </tr>\n    <tr>\n      <th>Dataset</th>\n      <th>CorruptionRate</th>\n      <th>Aug</th>\n      <th></th>\n      <th></th>\n      <th></th>\n      <th></th>\n      <th></th>\n      <th></th>\n    </tr>\n  </thead>\n  <tbody>\n    <tr>\n      <th rowspan=\"12\" valign=\"top\">IMDB-BINARY</th>\n      <th rowspan=\"3\" valign=\"top\">0.1</th>\n      <th>DropEdge</th>\n      <td>0.70000</td>\n      <td>0.037786</td>\n      <td>10</td>\n      <td>38.121</td>\n      <td>0.773153</td>\n      <td>10</td>\n    </tr>\n    <tr>\n      <th>G-Mixup</th>\n      <td>0.71050</td>\n      <td>0.045120</td>\n      <td>10</td>\n      <td>18.647</td>\n      <td>0.261026</td>\n      <td>10</td>\n    </tr>\n    <tr>\n      <th>Vanilla</th>\n      <td>0.72050</td>\n      <td>0.041663</td>\n      <td>10</td>\n      <td>16.798</td>\n      <td>1.254120</td>\n      <td>10</td>\n    </tr>\n    <tr>\n      <th rowspan=\"3\" valign=\"top\">0.2</th>\n      <th>DropEdge</th>\n      <td>0.68000</td>\n      <td>0.045277</td>\n      <td>10</td>\n      <td>35.925</td>\n      <td>0.483925</td>\n      <td>10</td>\n    </tr>\n    <tr>\n      <th>G-Mixup</th>\n      <td>0.69500</td>\n      <td>0.046547</td>\n      <td>10</td>\n      <td>17.052</td>\n      <td>0.138146</td>\n      <td>10</td>\n    </tr>\n    <tr>\n      <th>Vanilla</th>\n      <td>0.67650</td>\n      <td>0.042101</td>\n      <td>10</td>\n      <td>14.990</td>\n      <td>0.109341</td>\n      <td>10</td>\n    </tr>\n    <tr>\n      <th rowspan=\"3\" valign=\"top\">0.3</th>\n      <th>DropEdge</th>\n      <td>0.67250</td>\n      <td>0.044237</td>\n      <td>10</td>\n      <td>35.777</td>\n      <td>0.158188</td>\n      <td>10</td>\n    </tr>\n    <tr>\n      <th>G-Mixup</th>\n      <td>0.68600</td>\n      <td>0.043512</td>\n      <td>10</td>\n      <td>17.043</td>\n      <td>0.118795</td>\n      <td>10</td>\n    </tr>\n    <tr>\n      <th>Vanilla</th>\n      <td>0.66400</td>\n      <td>0.036040</td>\n      <td>10</td>\n      <td>15.002</td>\n      <td>0.073907</td>\n      <td>10</td>\n    </tr>\n    <tr>\n      <th rowspan=\"3\" valign=\"top\">0.4</th>\n      <th>DropEdge</th>\n      <td>0.59750</td>\n      <td>0.041180</td>\n      <td>10</td>\n      <td>35.732</td>\n      <td>0.270752</td>\n      <td>10</td>\n    </tr>\n    <tr>\n      <th>G-Mixup</th>\n      <td>0.65700</td>\n      <td>0.042830</td>\n      <td>10</td>\n      <td>17.065</td>\n      <td>0.064679</td>\n      <td>10</td>\n    </tr>\n    <tr>\n      <th>Vanilla</th>\n      <td>0.62650</td>\n      <td>0.052865</td>\n      <td>10</td>\n      <td>14.978</td>\n      <td>0.047329</td>\n      <td>10</td>\n    </tr>\n    <tr>\n      <th rowspan=\"12\" valign=\"top\">REDDIT-BINARY</th>\n      <th rowspan=\"3\" valign=\"top\">0.1</th>\n      <th>DropEdge</th>\n      <td>0.79375</td>\n      <td>0.066387</td>\n      <td>10</td>\n      <td>116.650</td>\n      <td>0.523344</td>\n      <td>10</td>\n    </tr>\n    <tr>\n      <th>G-Mixup</th>\n      <td>0.78650</td>\n      <td>0.038083</td>\n      <td>10</td>\n      <td>98.347</td>\n      <td>0.951794</td>\n      <td>10</td>\n    </tr>\n    <tr>\n      <th>Vanilla</th>\n      <td>0.81350</td>\n      <td>0.055367</td>\n      <td>10</td>\n      <td>74.104</td>\n      <td>0.448657</td>\n      <td>10</td>\n    </tr>\n    <tr>\n      <th rowspan=\"3\" valign=\"top\">0.2</th>\n      <th>DropEdge</th>\n      <td>0.76025</td>\n      <td>0.049574</td>\n      <td>10</td>\n      <td>120.650</td>\n      <td>6.294310</td>\n      <td>10</td>\n    </tr>\n    <tr>\n      <th>G-Mixup</th>\n      <td>0.76850</td>\n      <td>0.029444</td>\n      <td>10</td>\n      <td>101.878</td>\n      <td>6.371033</td>\n      <td>10</td>\n    </tr>\n    <tr>\n      <th>Vanilla</th>\n      <td>0.77100</td>\n      <td>0.053088</td>\n      <td>10</td>\n      <td>76.199</td>\n      <td>4.246875</td>\n      <td>10</td>\n    </tr>\n    <tr>\n      <th rowspan=\"3\" valign=\"top\">0.3</th>\n      <th>DropEdge</th>\n      <td>0.76975</td>\n      <td>0.051390</td>\n      <td>10</td>\n      <td>117.570</td>\n      <td>0.503433</td>\n      <td>10</td>\n    </tr>\n    <tr>\n      <th>G-Mixup</th>\n      <td>0.73850</td>\n      <td>0.037066</td>\n      <td>10</td>\n      <td>98.946</td>\n      <td>0.826589</td>\n      <td>10</td>\n    </tr>\n    <tr>\n      <th>Vanilla</th>\n      <td>0.74575</td>\n      <td>0.038605</td>\n      <td>10</td>\n      <td>74.579</td>\n      <td>0.470212</td>\n      <td>10</td>\n    </tr>\n    <tr>\n      <th rowspan=\"3\" valign=\"top\">0.4</th>\n      <th>DropEdge</th>\n      <td>0.71675</td>\n      <td>0.047288</td>\n      <td>10</td>\n      <td>120.610</td>\n      <td>5.406467</td>\n      <td>10</td>\n    </tr>\n    <tr>\n      <th>G-Mixup</th>\n      <td>0.72250</td>\n      <td>0.026900</td>\n      <td>10</td>\n      <td>100.186</td>\n      <td>3.346790</td>\n      <td>10</td>\n    </tr>\n    <tr>\n      <th>Vanilla</th>\n      <td>0.72075</td>\n      <td>0.039494</td>\n      <td>10</td>\n      <td>76.081</td>\n      <td>4.052534</td>\n      <td>10</td>\n    </tr>\n  </tbody>\n</table>\n</div>"
     },
     "execution_count": 8,
     "metadata": {},
     "output_type": "execute_result"
    }
   ],
   "source": [
    "grouped = results.groupby(['Dataset', 'CorruptionRate', 'Aug']).agg([np.mean, np.std, np.count_nonzero]).loc[:,['TestAcc', 'Time']]\n",
    "grouped"
   ],
   "metadata": {
    "collapsed": false
   }
  }
 ],
 "metadata": {
  "kernelspec": {
   "display_name": "Python 3",
   "language": "python",
   "name": "python3"
  },
  "language_info": {
   "codemirror_mode": {
    "name": "ipython",
    "version": 2
   },
   "file_extension": ".py",
   "mimetype": "text/x-python",
   "name": "python",
   "nbconvert_exporter": "python",
   "pygments_lexer": "ipython2",
   "version": "2.7.6"
  }
 },
 "nbformat": 4,
 "nbformat_minor": 0
}
