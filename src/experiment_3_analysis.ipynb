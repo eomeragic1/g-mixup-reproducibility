{
 "cells": [
  {
   "cell_type": "markdown",
   "source": [
    "# Analysis of the results for Experiment 3"
   ],
   "metadata": {
    "collapsed": false
   }
  },
  {
   "cell_type": "code",
   "execution_count": 1,
   "metadata": {
    "collapsed": true
   },
   "outputs": [],
   "source": [
    "import pandas as pd\n",
    "import numpy as np"
   ]
  },
  {
   "cell_type": "code",
   "execution_count": 29,
   "outputs": [],
   "source": [
    "dtypes = {'Dataset': 'category',\n",
    "          ' Model': 'category',\n",
    "          ' Seed': np.int32,\n",
    "          ' Aug': 'category',\n",
    "          ' BestEpoch': np.int32,\n",
    "          ' TestAcc': np.float64,\n",
    "          ' TestLoss': np.float64,\n",
    "          ' ValAcc': np.float64,\n",
    "          ' ValLoss': np.float64,\n",
    "          ' Device': 'category',\n",
    "          ' Time': np.float64\n",
    "          }"
   ],
   "metadata": {
    "collapsed": false
   }
  },
  {
   "cell_type": "code",
   "execution_count": 30,
   "outputs": [],
   "source": [
    "results = pd.read_csv('../results/train_log_exp3.csv', header=0, dtype=dtypes)\n",
    "columns = [x.strip() for x in list(dtypes.keys())]\n",
    "results.columns = columns"
   ],
   "metadata": {
    "collapsed": false
   }
  },
  {
   "cell_type": "code",
   "execution_count": 31,
   "outputs": [
    {
     "data": {
      "text/plain": "       Dataset Model  Seed        Aug  BestEpoch  TestAcc  TestLoss  ValAcc  \\\n0  IMDB-BINARY   GCN  1314    Vanilla        136    0.700    0.7624    0.68   \n1  IMDB-BINARY   GCN  1314    G-Mixup          6    0.760    0.5180    0.68   \n2  IMDB-BINARY   GCN  1314   Subgraph         36    0.745    1.3456    0.71   \n3  IMDB-BINARY   GCN  1314   DropEdge          3    0.715    0.6268    0.69   \n4  IMDB-BINARY   GCN  1314   DropNode          7    0.770    0.4938    0.72   \n\n   ValLoss Device    Time  \n0   1.1394    cpu  275.95  \n1   0.5254    cpu  288.35  \n2   1.5321    cpu   74.98  \n3   0.6022    cpu  123.67  \n4   0.5869    cpu   81.34  ",
      "text/html": "<div>\n<style scoped>\n    .dataframe tbody tr th:only-of-type {\n        vertical-align: middle;\n    }\n\n    .dataframe tbody tr th {\n        vertical-align: top;\n    }\n\n    .dataframe thead th {\n        text-align: right;\n    }\n</style>\n<table border=\"1\" class=\"dataframe\">\n  <thead>\n    <tr style=\"text-align: right;\">\n      <th></th>\n      <th>Dataset</th>\n      <th>Model</th>\n      <th>Seed</th>\n      <th>Aug</th>\n      <th>BestEpoch</th>\n      <th>TestAcc</th>\n      <th>TestLoss</th>\n      <th>ValAcc</th>\n      <th>ValLoss</th>\n      <th>Device</th>\n      <th>Time</th>\n    </tr>\n  </thead>\n  <tbody>\n    <tr>\n      <th>0</th>\n      <td>IMDB-BINARY</td>\n      <td>GCN</td>\n      <td>1314</td>\n      <td>Vanilla</td>\n      <td>136</td>\n      <td>0.700</td>\n      <td>0.7624</td>\n      <td>0.68</td>\n      <td>1.1394</td>\n      <td>cpu</td>\n      <td>275.95</td>\n    </tr>\n    <tr>\n      <th>1</th>\n      <td>IMDB-BINARY</td>\n      <td>GCN</td>\n      <td>1314</td>\n      <td>G-Mixup</td>\n      <td>6</td>\n      <td>0.760</td>\n      <td>0.5180</td>\n      <td>0.68</td>\n      <td>0.5254</td>\n      <td>cpu</td>\n      <td>288.35</td>\n    </tr>\n    <tr>\n      <th>2</th>\n      <td>IMDB-BINARY</td>\n      <td>GCN</td>\n      <td>1314</td>\n      <td>Subgraph</td>\n      <td>36</td>\n      <td>0.745</td>\n      <td>1.3456</td>\n      <td>0.71</td>\n      <td>1.5321</td>\n      <td>cpu</td>\n      <td>74.98</td>\n    </tr>\n    <tr>\n      <th>3</th>\n      <td>IMDB-BINARY</td>\n      <td>GCN</td>\n      <td>1314</td>\n      <td>DropEdge</td>\n      <td>3</td>\n      <td>0.715</td>\n      <td>0.6268</td>\n      <td>0.69</td>\n      <td>0.6022</td>\n      <td>cpu</td>\n      <td>123.67</td>\n    </tr>\n    <tr>\n      <th>4</th>\n      <td>IMDB-BINARY</td>\n      <td>GCN</td>\n      <td>1314</td>\n      <td>DropNode</td>\n      <td>7</td>\n      <td>0.770</td>\n      <td>0.4938</td>\n      <td>0.72</td>\n      <td>0.5869</td>\n      <td>cpu</td>\n      <td>81.34</td>\n    </tr>\n  </tbody>\n</table>\n</div>"
     },
     "execution_count": 31,
     "metadata": {},
     "output_type": "execute_result"
    }
   ],
   "source": [
    "results.head()"
   ],
   "metadata": {
    "collapsed": false
   }
  },
  {
   "cell_type": "code",
   "execution_count": 45,
   "outputs": [
    {
     "data": {
      "text/plain": "                                    TestAcc                        \n                                       mean       std count_nonzero\nDataset     Model       Aug                                        \nIMDB-BINARY  DiffPool    DropEdge  0.719000  0.025473          10.0\n                         DropNode  0.710500  0.022540          10.0\n                         G-Mixup   0.709500  0.031486          10.0\n                         Subgraph  0.701500  0.035438          10.0\n                         Vanilla   0.721500  0.020419          10.0\n             GCN         DropEdge  0.717000  0.024290          10.0\n                         DropNode  0.720500  0.033620          10.0\n                         G-Mixup   0.719000  0.029231          10.0\n                         Subgraph  0.720000  0.039511          10.0\n                         Vanilla   0.714000  0.022211          10.0\n             GIN         DropEdge  0.712000  0.031640          10.0\n                         DropNode  0.703000  0.036301          10.0\n                         G-Mixup   0.704500  0.039472          10.0\n                         Subgraph  0.698000  0.033267          10.0\n                         Vanilla   0.720000  0.029814          10.0\n             MinCutPool  DropEdge  0.715000  0.036968          10.0\n                         DropNode  0.715000  0.029250          10.0\n                         G-Mixup   0.712500  0.020582          10.0\n                         Subgraph  0.710500  0.030226          10.0\n                         Vanilla   0.715500  0.026714          10.0\n             TopKPool    DropEdge  0.687000  0.041780          10.0\n                         DropNode  0.716000  0.017607          10.0\n                         G-Mixup   0.708000  0.027406          10.0\n                         Subgraph  0.694000  0.047364          10.0\n                         Vanilla   0.706500  0.031977          10.0\nIMDB-MULTI   DiffPool    DropEdge       NaN       NaN           NaN\n                         DropNode       NaN       NaN           NaN\n                         G-Mixup        NaN       NaN           NaN\n                         Subgraph       NaN       NaN           NaN\n                         Vanilla        NaN       NaN           NaN\n             GCN         DropEdge  0.513333  0.020276           3.0\n                         DropNode  0.508889  0.025240           3.0\n                         G-Mixup   0.524445  0.006939           3.0\n                         Subgraph  0.486667  0.031798           3.0\n                         Vanilla   0.520000  0.018559           3.0\n             GIN         DropEdge       NaN       NaN           NaN\n                         DropNode       NaN       NaN           NaN\n                         G-Mixup        NaN       NaN           NaN\n                         Subgraph       NaN       NaN           NaN\n                         Vanilla        NaN       NaN           NaN\n             MinCutPool  DropEdge       NaN       NaN           NaN\n                         DropNode       NaN       NaN           NaN\n                         G-Mixup        NaN       NaN           NaN\n                         Subgraph       NaN       NaN           NaN\n                         Vanilla        NaN       NaN           NaN\n             TopKPool    DropEdge       NaN       NaN           NaN\n                         DropNode       NaN       NaN           NaN\n                         G-Mixup        NaN       NaN           NaN\n                         Subgraph       NaN       NaN           NaN\n                         Vanilla        NaN       NaN           NaN",
      "text/html": "<div>\n<style scoped>\n    .dataframe tbody tr th:only-of-type {\n        vertical-align: middle;\n    }\n\n    .dataframe tbody tr th {\n        vertical-align: top;\n    }\n\n    .dataframe thead tr th {\n        text-align: left;\n    }\n\n    .dataframe thead tr:last-of-type th {\n        text-align: right;\n    }\n</style>\n<table border=\"1\" class=\"dataframe\">\n  <thead>\n    <tr>\n      <th></th>\n      <th></th>\n      <th></th>\n      <th colspan=\"3\" halign=\"left\">TestAcc</th>\n    </tr>\n    <tr>\n      <th></th>\n      <th></th>\n      <th></th>\n      <th>mean</th>\n      <th>std</th>\n      <th>count_nonzero</th>\n    </tr>\n    <tr>\n      <th>Dataset</th>\n      <th>Model</th>\n      <th>Aug</th>\n      <th></th>\n      <th></th>\n      <th></th>\n    </tr>\n  </thead>\n  <tbody>\n    <tr>\n      <th rowspan=\"25\" valign=\"top\">IMDB-BINARY</th>\n      <th rowspan=\"5\" valign=\"top\">DiffPool</th>\n      <th>DropEdge</th>\n      <td>0.719000</td>\n      <td>0.025473</td>\n      <td>10.0</td>\n    </tr>\n    <tr>\n      <th>DropNode</th>\n      <td>0.710500</td>\n      <td>0.022540</td>\n      <td>10.0</td>\n    </tr>\n    <tr>\n      <th>G-Mixup</th>\n      <td>0.709500</td>\n      <td>0.031486</td>\n      <td>10.0</td>\n    </tr>\n    <tr>\n      <th>Subgraph</th>\n      <td>0.701500</td>\n      <td>0.035438</td>\n      <td>10.0</td>\n    </tr>\n    <tr>\n      <th>Vanilla</th>\n      <td>0.721500</td>\n      <td>0.020419</td>\n      <td>10.0</td>\n    </tr>\n    <tr>\n      <th rowspan=\"5\" valign=\"top\">GCN</th>\n      <th>DropEdge</th>\n      <td>0.717000</td>\n      <td>0.024290</td>\n      <td>10.0</td>\n    </tr>\n    <tr>\n      <th>DropNode</th>\n      <td>0.720500</td>\n      <td>0.033620</td>\n      <td>10.0</td>\n    </tr>\n    <tr>\n      <th>G-Mixup</th>\n      <td>0.719000</td>\n      <td>0.029231</td>\n      <td>10.0</td>\n    </tr>\n    <tr>\n      <th>Subgraph</th>\n      <td>0.720000</td>\n      <td>0.039511</td>\n      <td>10.0</td>\n    </tr>\n    <tr>\n      <th>Vanilla</th>\n      <td>0.714000</td>\n      <td>0.022211</td>\n      <td>10.0</td>\n    </tr>\n    <tr>\n      <th rowspan=\"5\" valign=\"top\">GIN</th>\n      <th>DropEdge</th>\n      <td>0.712000</td>\n      <td>0.031640</td>\n      <td>10.0</td>\n    </tr>\n    <tr>\n      <th>DropNode</th>\n      <td>0.703000</td>\n      <td>0.036301</td>\n      <td>10.0</td>\n    </tr>\n    <tr>\n      <th>G-Mixup</th>\n      <td>0.704500</td>\n      <td>0.039472</td>\n      <td>10.0</td>\n    </tr>\n    <tr>\n      <th>Subgraph</th>\n      <td>0.698000</td>\n      <td>0.033267</td>\n      <td>10.0</td>\n    </tr>\n    <tr>\n      <th>Vanilla</th>\n      <td>0.720000</td>\n      <td>0.029814</td>\n      <td>10.0</td>\n    </tr>\n    <tr>\n      <th rowspan=\"5\" valign=\"top\">MinCutPool</th>\n      <th>DropEdge</th>\n      <td>0.715000</td>\n      <td>0.036968</td>\n      <td>10.0</td>\n    </tr>\n    <tr>\n      <th>DropNode</th>\n      <td>0.715000</td>\n      <td>0.029250</td>\n      <td>10.0</td>\n    </tr>\n    <tr>\n      <th>G-Mixup</th>\n      <td>0.712500</td>\n      <td>0.020582</td>\n      <td>10.0</td>\n    </tr>\n    <tr>\n      <th>Subgraph</th>\n      <td>0.710500</td>\n      <td>0.030226</td>\n      <td>10.0</td>\n    </tr>\n    <tr>\n      <th>Vanilla</th>\n      <td>0.715500</td>\n      <td>0.026714</td>\n      <td>10.0</td>\n    </tr>\n    <tr>\n      <th rowspan=\"5\" valign=\"top\">TopKPool</th>\n      <th>DropEdge</th>\n      <td>0.687000</td>\n      <td>0.041780</td>\n      <td>10.0</td>\n    </tr>\n    <tr>\n      <th>DropNode</th>\n      <td>0.716000</td>\n      <td>0.017607</td>\n      <td>10.0</td>\n    </tr>\n    <tr>\n      <th>G-Mixup</th>\n      <td>0.708000</td>\n      <td>0.027406</td>\n      <td>10.0</td>\n    </tr>\n    <tr>\n      <th>Subgraph</th>\n      <td>0.694000</td>\n      <td>0.047364</td>\n      <td>10.0</td>\n    </tr>\n    <tr>\n      <th>Vanilla</th>\n      <td>0.706500</td>\n      <td>0.031977</td>\n      <td>10.0</td>\n    </tr>\n    <tr>\n      <th rowspan=\"25\" valign=\"top\">IMDB-MULTI</th>\n      <th rowspan=\"5\" valign=\"top\">DiffPool</th>\n      <th>DropEdge</th>\n      <td>NaN</td>\n      <td>NaN</td>\n      <td>NaN</td>\n    </tr>\n    <tr>\n      <th>DropNode</th>\n      <td>NaN</td>\n      <td>NaN</td>\n      <td>NaN</td>\n    </tr>\n    <tr>\n      <th>G-Mixup</th>\n      <td>NaN</td>\n      <td>NaN</td>\n      <td>NaN</td>\n    </tr>\n    <tr>\n      <th>Subgraph</th>\n      <td>NaN</td>\n      <td>NaN</td>\n      <td>NaN</td>\n    </tr>\n    <tr>\n      <th>Vanilla</th>\n      <td>NaN</td>\n      <td>NaN</td>\n      <td>NaN</td>\n    </tr>\n    <tr>\n      <th rowspan=\"5\" valign=\"top\">GCN</th>\n      <th>DropEdge</th>\n      <td>0.513333</td>\n      <td>0.020276</td>\n      <td>3.0</td>\n    </tr>\n    <tr>\n      <th>DropNode</th>\n      <td>0.508889</td>\n      <td>0.025240</td>\n      <td>3.0</td>\n    </tr>\n    <tr>\n      <th>G-Mixup</th>\n      <td>0.524445</td>\n      <td>0.006939</td>\n      <td>3.0</td>\n    </tr>\n    <tr>\n      <th>Subgraph</th>\n      <td>0.486667</td>\n      <td>0.031798</td>\n      <td>3.0</td>\n    </tr>\n    <tr>\n      <th>Vanilla</th>\n      <td>0.520000</td>\n      <td>0.018559</td>\n      <td>3.0</td>\n    </tr>\n    <tr>\n      <th rowspan=\"5\" valign=\"top\">GIN</th>\n      <th>DropEdge</th>\n      <td>NaN</td>\n      <td>NaN</td>\n      <td>NaN</td>\n    </tr>\n    <tr>\n      <th>DropNode</th>\n      <td>NaN</td>\n      <td>NaN</td>\n      <td>NaN</td>\n    </tr>\n    <tr>\n      <th>G-Mixup</th>\n      <td>NaN</td>\n      <td>NaN</td>\n      <td>NaN</td>\n    </tr>\n    <tr>\n      <th>Subgraph</th>\n      <td>NaN</td>\n      <td>NaN</td>\n      <td>NaN</td>\n    </tr>\n    <tr>\n      <th>Vanilla</th>\n      <td>NaN</td>\n      <td>NaN</td>\n      <td>NaN</td>\n    </tr>\n    <tr>\n      <th rowspan=\"5\" valign=\"top\">MinCutPool</th>\n      <th>DropEdge</th>\n      <td>NaN</td>\n      <td>NaN</td>\n      <td>NaN</td>\n    </tr>\n    <tr>\n      <th>DropNode</th>\n      <td>NaN</td>\n      <td>NaN</td>\n      <td>NaN</td>\n    </tr>\n    <tr>\n      <th>G-Mixup</th>\n      <td>NaN</td>\n      <td>NaN</td>\n      <td>NaN</td>\n    </tr>\n    <tr>\n      <th>Subgraph</th>\n      <td>NaN</td>\n      <td>NaN</td>\n      <td>NaN</td>\n    </tr>\n    <tr>\n      <th>Vanilla</th>\n      <td>NaN</td>\n      <td>NaN</td>\n      <td>NaN</td>\n    </tr>\n    <tr>\n      <th rowspan=\"5\" valign=\"top\">TopKPool</th>\n      <th>DropEdge</th>\n      <td>NaN</td>\n      <td>NaN</td>\n      <td>NaN</td>\n    </tr>\n    <tr>\n      <th>DropNode</th>\n      <td>NaN</td>\n      <td>NaN</td>\n      <td>NaN</td>\n    </tr>\n    <tr>\n      <th>G-Mixup</th>\n      <td>NaN</td>\n      <td>NaN</td>\n      <td>NaN</td>\n    </tr>\n    <tr>\n      <th>Subgraph</th>\n      <td>NaN</td>\n      <td>NaN</td>\n      <td>NaN</td>\n    </tr>\n    <tr>\n      <th>Vanilla</th>\n      <td>NaN</td>\n      <td>NaN</td>\n      <td>NaN</td>\n    </tr>\n  </tbody>\n</table>\n</div>"
     },
     "execution_count": 45,
     "metadata": {},
     "output_type": "execute_result"
    }
   ],
   "source": [
    "grouped = results.groupby(['Dataset', 'Model', 'Aug']).agg([np.mean, np.std, np.count_nonzero]).loc[:,['TestAcc']]\n",
    "grouped"
   ],
   "metadata": {
    "collapsed": false
   }
  },
  {
   "cell_type": "markdown",
   "source": [
    "### Analysis of train/val/test losses"
   ],
   "metadata": {
    "collapsed": false
   }
  },
  {
   "cell_type": "code",
   "execution_count": null,
   "outputs": [],
   "source": [],
   "metadata": {
    "collapsed": false
   }
  }
 ],
 "metadata": {
  "kernelspec": {
   "display_name": "Python 3",
   "language": "python",
   "name": "python3"
  },
  "language_info": {
   "codemirror_mode": {
    "name": "ipython",
    "version": 2
   },
   "file_extension": ".py",
   "mimetype": "text/x-python",
   "name": "python",
   "nbconvert_exporter": "python",
   "pygments_lexer": "ipython2",
   "version": "2.7.6"
  }
 },
 "nbformat": 4,
 "nbformat_minor": 0
}
