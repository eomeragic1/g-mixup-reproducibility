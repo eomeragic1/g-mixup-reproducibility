{
 "cells": [
  {
   "cell_type": "markdown",
   "metadata": {},
   "source": [
    "# Analysis of the results for Experiment 3"
   ]
  },
  {
   "cell_type": "code",
   "execution_count": 1,
   "metadata": {
    "collapsed": true
   },
   "outputs": [],
   "source": [
    "import pandas as pd\n",
    "import numpy as np"
   ]
  },
  {
   "cell_type": "code",
   "execution_count": 2,
   "metadata": {},
   "outputs": [],
   "source": [
    "dtypes = {'Dataset': 'category',\n",
    "          ' Model': 'category',\n",
    "          ' Seed': np.int32,\n",
    "          ' Aug': 'category',\n",
    "          ' BestEpoch': np.int32,\n",
    "          ' TestAcc': np.float64,\n",
    "          ' TestLoss': np.float64,\n",
    "          ' ValAcc': np.float64,\n",
    "          ' ValLoss': np.float64,\n",
    "          ' Device': 'category',\n",
    "          ' Time': np.float64\n",
    "          }"
   ]
  },
  {
   "cell_type": "code",
   "execution_count": 8,
   "metadata": {},
   "outputs": [],
   "source": [
    "results = pd.read_csv('../results/train_log_exp3_2nd_file.csv', header=0, dtype=dtypes)\n",
    "columns = [x.strip() for x in list(dtypes.keys())]\n",
    "results.columns = columns"
   ]
  },
  {
   "cell_type": "code",
   "execution_count": 9,
   "metadata": {},
   "outputs": [
    {
     "data": {
      "text/plain": "       Dataset Model  Seed        Aug  BestEpoch  TestAcc  TestLoss  ValAcc  \\\n0  IMDB-BINARY   GCN  1314    Vanilla        136    0.700    0.7624    0.68   \n1  IMDB-BINARY   GCN  1314    G-Mixup          6    0.760    0.5180    0.68   \n2  IMDB-BINARY   GCN  1314   Subgraph         36    0.745    1.3456    0.71   \n3  IMDB-BINARY   GCN  1314   DropEdge          3    0.715    0.6268    0.69   \n4  IMDB-BINARY   GCN  1314   DropNode          7    0.770    0.4938    0.72   \n\n   ValLoss Device    Time  \n0   1.1394    cpu  275.95  \n1   0.5254    cpu  288.35  \n2   1.5321    cpu   74.98  \n3   0.6022    cpu  123.67  \n4   0.5869    cpu   81.34  ",
      "text/html": "<div>\n<style scoped>\n    .dataframe tbody tr th:only-of-type {\n        vertical-align: middle;\n    }\n\n    .dataframe tbody tr th {\n        vertical-align: top;\n    }\n\n    .dataframe thead th {\n        text-align: right;\n    }\n</style>\n<table border=\"1\" class=\"dataframe\">\n  <thead>\n    <tr style=\"text-align: right;\">\n      <th></th>\n      <th>Dataset</th>\n      <th>Model</th>\n      <th>Seed</th>\n      <th>Aug</th>\n      <th>BestEpoch</th>\n      <th>TestAcc</th>\n      <th>TestLoss</th>\n      <th>ValAcc</th>\n      <th>ValLoss</th>\n      <th>Device</th>\n      <th>Time</th>\n    </tr>\n  </thead>\n  <tbody>\n    <tr>\n      <th>0</th>\n      <td>IMDB-BINARY</td>\n      <td>GCN</td>\n      <td>1314</td>\n      <td>Vanilla</td>\n      <td>136</td>\n      <td>0.700</td>\n      <td>0.7624</td>\n      <td>0.68</td>\n      <td>1.1394</td>\n      <td>cpu</td>\n      <td>275.95</td>\n    </tr>\n    <tr>\n      <th>1</th>\n      <td>IMDB-BINARY</td>\n      <td>GCN</td>\n      <td>1314</td>\n      <td>G-Mixup</td>\n      <td>6</td>\n      <td>0.760</td>\n      <td>0.5180</td>\n      <td>0.68</td>\n      <td>0.5254</td>\n      <td>cpu</td>\n      <td>288.35</td>\n    </tr>\n    <tr>\n      <th>2</th>\n      <td>IMDB-BINARY</td>\n      <td>GCN</td>\n      <td>1314</td>\n      <td>Subgraph</td>\n      <td>36</td>\n      <td>0.745</td>\n      <td>1.3456</td>\n      <td>0.71</td>\n      <td>1.5321</td>\n      <td>cpu</td>\n      <td>74.98</td>\n    </tr>\n    <tr>\n      <th>3</th>\n      <td>IMDB-BINARY</td>\n      <td>GCN</td>\n      <td>1314</td>\n      <td>DropEdge</td>\n      <td>3</td>\n      <td>0.715</td>\n      <td>0.6268</td>\n      <td>0.69</td>\n      <td>0.6022</td>\n      <td>cpu</td>\n      <td>123.67</td>\n    </tr>\n    <tr>\n      <th>4</th>\n      <td>IMDB-BINARY</td>\n      <td>GCN</td>\n      <td>1314</td>\n      <td>DropNode</td>\n      <td>7</td>\n      <td>0.770</td>\n      <td>0.4938</td>\n      <td>0.72</td>\n      <td>0.5869</td>\n      <td>cpu</td>\n      <td>81.34</td>\n    </tr>\n  </tbody>\n</table>\n</div>"
     },
     "execution_count": 9,
     "metadata": {},
     "output_type": "execute_result"
    }
   ],
   "source": [
    "results.head()"
   ]
  },
  {
   "cell_type": "code",
   "execution_count": 10,
   "metadata": {},
   "outputs": [
    {
     "name": "stderr",
     "output_type": "stream",
     "text": [
      "C:\\Users\\ermin.omeragic\\AppData\\Local\\Temp\\ipykernel_23160\\1816575529.py:1: FutureWarning: ['Device'] did not aggregate successfully. If any error is raised this will raise in a future version of pandas. Drop these columns/ops to avoid this warning.\n",
      "  grouped = results.groupby(['Aug', 'Model', 'Dataset']).agg([np.mean, np.std, np.count_nonzero]).loc[:,['TestAcc']]\n"
     ]
    },
    {
     "data": {
      "text/plain": "                                       TestAcc                        \n                                          mean       std count_nonzero\nAug       Model     Dataset                                           \n DropEdge  DiffPool IMDB-BINARY       0.719000  0.025473          10.0\n                    IMDB-MULTI        0.490667  0.017413          10.0\n                    REDDIT-BINARY          NaN       NaN           NaN\n                    REDDIT-MULTI-12K       NaN       NaN           NaN\n                    REDDIT-MULTI-5K        NaN       NaN           NaN\n...                                        ...       ...           ...\n Vanilla   TopKPool IMDB-BINARY       0.706500  0.031977          10.0\n                    IMDB-MULTI        0.493333  0.025724          10.0\n                    REDDIT-BINARY          NaN       NaN           NaN\n                    REDDIT-MULTI-12K       NaN       NaN           NaN\n                    REDDIT-MULTI-5K        NaN       NaN           NaN\n\n[125 rows x 3 columns]",
      "text/html": "<div>\n<style scoped>\n    .dataframe tbody tr th:only-of-type {\n        vertical-align: middle;\n    }\n\n    .dataframe tbody tr th {\n        vertical-align: top;\n    }\n\n    .dataframe thead tr th {\n        text-align: left;\n    }\n\n    .dataframe thead tr:last-of-type th {\n        text-align: right;\n    }\n</style>\n<table border=\"1\" class=\"dataframe\">\n  <thead>\n    <tr>\n      <th></th>\n      <th></th>\n      <th></th>\n      <th colspan=\"3\" halign=\"left\">TestAcc</th>\n    </tr>\n    <tr>\n      <th></th>\n      <th></th>\n      <th></th>\n      <th>mean</th>\n      <th>std</th>\n      <th>count_nonzero</th>\n    </tr>\n    <tr>\n      <th>Aug</th>\n      <th>Model</th>\n      <th>Dataset</th>\n      <th></th>\n      <th></th>\n      <th></th>\n    </tr>\n  </thead>\n  <tbody>\n    <tr>\n      <th rowspan=\"5\" valign=\"top\">DropEdge</th>\n      <th rowspan=\"5\" valign=\"top\">DiffPool</th>\n      <th>IMDB-BINARY</th>\n      <td>0.719000</td>\n      <td>0.025473</td>\n      <td>10.0</td>\n    </tr>\n    <tr>\n      <th>IMDB-MULTI</th>\n      <td>0.490667</td>\n      <td>0.017413</td>\n      <td>10.0</td>\n    </tr>\n    <tr>\n      <th>REDDIT-BINARY</th>\n      <td>NaN</td>\n      <td>NaN</td>\n      <td>NaN</td>\n    </tr>\n    <tr>\n      <th>REDDIT-MULTI-12K</th>\n      <td>NaN</td>\n      <td>NaN</td>\n      <td>NaN</td>\n    </tr>\n    <tr>\n      <th>REDDIT-MULTI-5K</th>\n      <td>NaN</td>\n      <td>NaN</td>\n      <td>NaN</td>\n    </tr>\n    <tr>\n      <th>...</th>\n      <th>...</th>\n      <th>...</th>\n      <td>...</td>\n      <td>...</td>\n      <td>...</td>\n    </tr>\n    <tr>\n      <th rowspan=\"5\" valign=\"top\">Vanilla</th>\n      <th rowspan=\"5\" valign=\"top\">TopKPool</th>\n      <th>IMDB-BINARY</th>\n      <td>0.706500</td>\n      <td>0.031977</td>\n      <td>10.0</td>\n    </tr>\n    <tr>\n      <th>IMDB-MULTI</th>\n      <td>0.493333</td>\n      <td>0.025724</td>\n      <td>10.0</td>\n    </tr>\n    <tr>\n      <th>REDDIT-BINARY</th>\n      <td>NaN</td>\n      <td>NaN</td>\n      <td>NaN</td>\n    </tr>\n    <tr>\n      <th>REDDIT-MULTI-12K</th>\n      <td>NaN</td>\n      <td>NaN</td>\n      <td>NaN</td>\n    </tr>\n    <tr>\n      <th>REDDIT-MULTI-5K</th>\n      <td>NaN</td>\n      <td>NaN</td>\n      <td>NaN</td>\n    </tr>\n  </tbody>\n</table>\n<p>125 rows × 3 columns</p>\n</div>"
     },
     "execution_count": 10,
     "metadata": {},
     "output_type": "execute_result"
    }
   ],
   "source": [
    "grouped = results.groupby(['Aug', 'Model', 'Dataset']).agg([np.mean, np.std, np.count_nonzero]).loc[:,['TestAcc']]\n",
    "grouped"
   ]
  },
  {
   "cell_type": "markdown",
   "metadata": {},
   "source": [
    "### Analysis of train/val/test losses"
   ]
  },
  {
   "cell_type": "code",
   "execution_count": null,
   "metadata": {},
   "outputs": [],
   "source": []
  }
 ],
 "metadata": {
  "kernelspec": {
   "display_name": "Python 3 (ipykernel)",
   "language": "python",
   "name": "python3"
  },
  "language_info": {
   "codemirror_mode": {
    "name": "ipython",
    "version": 3
   },
   "file_extension": ".py",
   "mimetype": "text/x-python",
   "name": "python",
   "nbconvert_exporter": "python",
   "pygments_lexer": "ipython3",
   "version": "3.9.9"
  }
 },
 "nbformat": 4,
 "nbformat_minor": 1
}
