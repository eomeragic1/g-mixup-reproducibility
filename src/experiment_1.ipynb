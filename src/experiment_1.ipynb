{
 "cells": [
  {
   "cell_type": "markdown",
   "metadata": {},
   "source": [
    "# The Graphons of Different Class of Graphs in one Dataset are distinctly different"
   ]
  },
  {
   "cell_type": "code",
   "execution_count": 1,
   "metadata": {},
   "outputs": [
    {
     "data": {
      "text/plain": "'1.12.1+cu116'"
     },
     "execution_count": 1,
     "metadata": {},
     "output_type": "execute_result"
    }
   ],
   "source": [
    "import torch\n",
    "torch.__version__"
   ]
  },
  {
   "cell_type": "code",
   "execution_count": 20,
   "metadata": {},
   "outputs": [],
   "source": [
    "from torch_geometric.datasets import TUDataset\n",
    "import os.path as osp\n",
    "from src.gmixup import prepare_dataset_onehot_y\n",
    "from src.utils import split_class_graphs\n",
    "from src.graphon_estimator import universal_svd\n",
    "from src.utils import align_graphs, stat_graph\n",
    "import random\n",
    "import matplotlib.pyplot as plt\n",
    "import matplotlib as mpl"
   ]
  },
  {
   "cell_type": "code",
   "execution_count": 31,
   "metadata": {
    "collapsed": true
   },
   "outputs": [
    {
     "name": "stdout",
     "output_type": "stream",
     "text": [
      "Median num nodes:  17\n",
      "Finished splitting class graphs\n",
      "Finished aligning graphs of label  [0. 1.]\n",
      "Doing SVD of matrix of size:  17\n",
      "Finished SVD!\n"
     ]
    },
    {
     "ename": "KeyboardInterrupt",
     "evalue": "",
     "output_type": "error",
     "traceback": [
      "\u001B[0;31m---------------------------------------------------------------------------\u001B[0m",
      "\u001B[0;31mKeyboardInterrupt\u001B[0m                         Traceback (most recent call last)",
      "Cell \u001B[0;32mIn [31], line 28\u001B[0m\n\u001B[1;32m     25\u001B[0m     align_graphs_list, normalized_node_degrees, max_num, min_num \u001B[38;5;241m=\u001B[39m align_graphs(\n\u001B[1;32m     26\u001B[0m         graphs[:align_max_size], padding\u001B[38;5;241m=\u001B[39m\u001B[38;5;28;01mTrue\u001B[39;00m, N\u001B[38;5;241m=\u001B[39m\u001B[38;5;28mint\u001B[39m(graphon_size))\n\u001B[1;32m     27\u001B[0m     \u001B[38;5;28mprint\u001B[39m(\u001B[38;5;124m'\u001B[39m\u001B[38;5;124mFinished aligning graphs of label \u001B[39m\u001B[38;5;124m'\u001B[39m, label)\n\u001B[0;32m---> 28\u001B[0m     graphon \u001B[38;5;241m=\u001B[39m universal_svd(align_graphs_list, threshold\u001B[38;5;241m=\u001B[39m\u001B[38;5;241m0.2\u001B[39m)\n\u001B[1;32m     29\u001B[0m     graphons\u001B[38;5;241m.\u001B[39mappend((label, graphon))\n\u001B[1;32m     31\u001B[0m fig, ax \u001B[38;5;241m=\u001B[39m plt\u001B[38;5;241m.\u001B[39msubplots(\u001B[38;5;241m1\u001B[39m, \u001B[38;5;28mlen\u001B[39m(class_graphs), facecolor\u001B[38;5;241m=\u001B[39m\u001B[38;5;124m'\u001B[39m\u001B[38;5;124mw\u001B[39m\u001B[38;5;124m'\u001B[39m)\n",
      "File \u001B[0;32m~/Desktop/RI KURS/MLDS2/Reproducibility/g-mixup-reproducibility/src/graphon_estimator.py:193\u001B[0m, in \u001B[0;36muniversal_svd\u001B[0;34m(aligned_graphs, threshold)\u001B[0m\n\u001B[1;32m    191\u001B[0m s[binary_s] \u001B[38;5;241m=\u001B[39m \u001B[38;5;241m0\u001B[39m\n\u001B[1;32m    192\u001B[0m graphon \u001B[38;5;241m=\u001B[39m u \u001B[38;5;241m@\u001B[39m torch\u001B[38;5;241m.\u001B[39mdiag(s) \u001B[38;5;241m@\u001B[39m torch\u001B[38;5;241m.\u001B[39mt(v)\n\u001B[0;32m--> 193\u001B[0m graphon[graphon \u001B[38;5;241m>\u001B[39m \u001B[38;5;241m1\u001B[39m] \u001B[38;5;241m=\u001B[39m \u001B[38;5;241m1\u001B[39m\n\u001B[1;32m    194\u001B[0m graphon[graphon \u001B[38;5;241m<\u001B[39m \u001B[38;5;241m0\u001B[39m] \u001B[38;5;241m=\u001B[39m \u001B[38;5;241m0\u001B[39m\n\u001B[1;32m    195\u001B[0m graphon \u001B[38;5;241m=\u001B[39m graphon\u001B[38;5;241m.\u001B[39mnumpy()\n",
      "File \u001B[0;32m~/Desktop/RI KURS/MLDS2/Reproducibility/g-mixup-reproducibility/src/graphon_estimator.py:193\u001B[0m, in \u001B[0;36muniversal_svd\u001B[0;34m(aligned_graphs, threshold)\u001B[0m\n\u001B[1;32m    191\u001B[0m s[binary_s] \u001B[38;5;241m=\u001B[39m \u001B[38;5;241m0\u001B[39m\n\u001B[1;32m    192\u001B[0m graphon \u001B[38;5;241m=\u001B[39m u \u001B[38;5;241m@\u001B[39m torch\u001B[38;5;241m.\u001B[39mdiag(s) \u001B[38;5;241m@\u001B[39m torch\u001B[38;5;241m.\u001B[39mt(v)\n\u001B[0;32m--> 193\u001B[0m graphon[graphon \u001B[38;5;241m>\u001B[39m \u001B[38;5;241m1\u001B[39m] \u001B[38;5;241m=\u001B[39m \u001B[38;5;241m1\u001B[39m\n\u001B[1;32m    194\u001B[0m graphon[graphon \u001B[38;5;241m<\u001B[39m \u001B[38;5;241m0\u001B[39m] \u001B[38;5;241m=\u001B[39m \u001B[38;5;241m0\u001B[39m\n\u001B[1;32m    195\u001B[0m graphon \u001B[38;5;241m=\u001B[39m graphon\u001B[38;5;241m.\u001B[39mnumpy()\n",
      "File \u001B[0;32m/snap/pycharm-professional/302/plugins/python/helpers/pydev/_pydevd_bundle/pydevd_frame.py:747\u001B[0m, in \u001B[0;36mPyDBFrame.trace_dispatch\u001B[0;34m(self, frame, event, arg)\u001B[0m\n\u001B[1;32m    745\u001B[0m \u001B[38;5;66;03m# if thread has a suspend flag, we suspend with a busy wait\u001B[39;00m\n\u001B[1;32m    746\u001B[0m \u001B[38;5;28;01mif\u001B[39;00m info\u001B[38;5;241m.\u001B[39mpydev_state \u001B[38;5;241m==\u001B[39m STATE_SUSPEND:\n\u001B[0;32m--> 747\u001B[0m     \u001B[38;5;28;43mself\u001B[39;49m\u001B[38;5;241;43m.\u001B[39;49m\u001B[43mdo_wait_suspend\u001B[49m\u001B[43m(\u001B[49m\u001B[43mthread\u001B[49m\u001B[43m,\u001B[49m\u001B[43m \u001B[49m\u001B[43mframe\u001B[49m\u001B[43m,\u001B[49m\u001B[43m \u001B[49m\u001B[43mevent\u001B[49m\u001B[43m,\u001B[49m\u001B[43m \u001B[49m\u001B[43marg\u001B[49m\u001B[43m)\u001B[49m\n\u001B[1;32m    748\u001B[0m     \u001B[38;5;66;03m# No need to reset frame.f_trace to keep the same trace function.\u001B[39;00m\n\u001B[1;32m    749\u001B[0m     \u001B[38;5;28;01mreturn\u001B[39;00m \u001B[38;5;28mself\u001B[39m\u001B[38;5;241m.\u001B[39mtrace_dispatch\n",
      "File \u001B[0;32m/snap/pycharm-professional/302/plugins/python/helpers/pydev/_pydevd_bundle/pydevd_frame.py:144\u001B[0m, in \u001B[0;36mPyDBFrame.do_wait_suspend\u001B[0;34m(self, *args, **kwargs)\u001B[0m\n\u001B[1;32m    143\u001B[0m \u001B[38;5;28;01mdef\u001B[39;00m \u001B[38;5;21mdo_wait_suspend\u001B[39m(\u001B[38;5;28mself\u001B[39m, \u001B[38;5;241m*\u001B[39margs, \u001B[38;5;241m*\u001B[39m\u001B[38;5;241m*\u001B[39mkwargs):\n\u001B[0;32m--> 144\u001B[0m     \u001B[38;5;28;43mself\u001B[39;49m\u001B[38;5;241;43m.\u001B[39;49m\u001B[43m_args\u001B[49m\u001B[43m[\u001B[49m\u001B[38;5;241;43m0\u001B[39;49m\u001B[43m]\u001B[49m\u001B[38;5;241;43m.\u001B[39;49m\u001B[43mdo_wait_suspend\u001B[49m\u001B[43m(\u001B[49m\u001B[38;5;241;43m*\u001B[39;49m\u001B[43margs\u001B[49m\u001B[43m,\u001B[49m\u001B[43m \u001B[49m\u001B[38;5;241;43m*\u001B[39;49m\u001B[38;5;241;43m*\u001B[39;49m\u001B[43mkwargs\u001B[49m\u001B[43m)\u001B[49m\n",
      "File \u001B[0;32m/snap/pycharm-professional/302/plugins/python/helpers/pydev/pydevd.py:1160\u001B[0m, in \u001B[0;36mPyDB.do_wait_suspend\u001B[0;34m(self, thread, frame, event, arg, send_suspend_message, is_unhandled_exception)\u001B[0m\n\u001B[1;32m   1157\u001B[0m         from_this_thread\u001B[38;5;241m.\u001B[39mappend(frame_id)\n\u001B[1;32m   1159\u001B[0m \u001B[38;5;28;01mwith\u001B[39;00m \u001B[38;5;28mself\u001B[39m\u001B[38;5;241m.\u001B[39m_threads_suspended_single_notification\u001B[38;5;241m.\u001B[39mnotify_thread_suspended(thread_id, stop_reason):\n\u001B[0;32m-> 1160\u001B[0m     \u001B[38;5;28;43mself\u001B[39;49m\u001B[38;5;241;43m.\u001B[39;49m\u001B[43m_do_wait_suspend\u001B[49m\u001B[43m(\u001B[49m\u001B[43mthread\u001B[49m\u001B[43m,\u001B[49m\u001B[43m \u001B[49m\u001B[43mframe\u001B[49m\u001B[43m,\u001B[49m\u001B[43m \u001B[49m\u001B[43mevent\u001B[49m\u001B[43m,\u001B[49m\u001B[43m \u001B[49m\u001B[43marg\u001B[49m\u001B[43m,\u001B[49m\u001B[43m \u001B[49m\u001B[43msuspend_type\u001B[49m\u001B[43m,\u001B[49m\u001B[43m \u001B[49m\u001B[43mfrom_this_thread\u001B[49m\u001B[43m)\u001B[49m\n",
      "File \u001B[0;32m/snap/pycharm-professional/302/plugins/python/helpers/pydev/pydevd.py:1175\u001B[0m, in \u001B[0;36mPyDB._do_wait_suspend\u001B[0;34m(self, thread, frame, event, arg, suspend_type, from_this_thread)\u001B[0m\n\u001B[1;32m   1172\u001B[0m             \u001B[38;5;28mself\u001B[39m\u001B[38;5;241m.\u001B[39m_call_mpl_hook()\n\u001B[1;32m   1174\u001B[0m         \u001B[38;5;28mself\u001B[39m\u001B[38;5;241m.\u001B[39mprocess_internal_commands()\n\u001B[0;32m-> 1175\u001B[0m         \u001B[43mtime\u001B[49m\u001B[38;5;241;43m.\u001B[39;49m\u001B[43msleep\u001B[49m\u001B[43m(\u001B[49m\u001B[38;5;241;43m0.01\u001B[39;49m\u001B[43m)\u001B[49m\n\u001B[1;32m   1177\u001B[0m \u001B[38;5;28mself\u001B[39m\u001B[38;5;241m.\u001B[39mcancel_async_evaluation(get_current_thread_id(thread), \u001B[38;5;28mstr\u001B[39m(\u001B[38;5;28mid\u001B[39m(frame)))\n\u001B[1;32m   1179\u001B[0m \u001B[38;5;66;03m# process any stepping instructions\u001B[39;00m\n",
      "\u001B[0;31mKeyboardInterrupt\u001B[0m: "
     ]
    }
   ],
   "source": [
    "from mpl_toolkits.axes_grid1 import make_axes_locatable\n",
    "\n",
    "dataset_names = ['IMDB-BINARY', 'REDDIT-BINARY', 'IMDB-MULTI']\n",
    "graphon_sizes = [17, 15, 12]\n",
    "data_path = './'\n",
    "align_max_size = 500\n",
    "for dataset_name, graphon_size in zip(dataset_names, graphon_sizes):\n",
    "    path = osp.join(data_path, dataset_name)\n",
    "    dataset = TUDataset(path, name=dataset_name)\n",
    "    dataset = list(dataset)\n",
    "\n",
    "    for graph in dataset:\n",
    "        graph.y = graph.y.view(-1)\n",
    "\n",
    "    dataset = prepare_dataset_onehot_y(dataset)\n",
    "    random.seed(1314)\n",
    "    random.shuffle(dataset)\n",
    "    avg_num_nodes, avg_num_edges, avg_density, median_num_nodes, median_num_edges, median_density = stat_graph(\n",
    "        dataset)\n",
    "    print('Median num nodes: ', int(median_num_nodes))\n",
    "    class_graphs = split_class_graphs(dataset)\n",
    "    print('Finished splitting class graphs')\n",
    "    graphons = []\n",
    "    for label, graphs in class_graphs:\n",
    "        align_graphs_list, normalized_node_degrees, max_num, min_num = align_graphs(\n",
    "            graphs[:align_max_size], padding=True, N=int(graphon_size))\n",
    "        print('Finished aligning graphs of label ', label)\n",
    "        graphon = universal_svd(align_graphs_list, threshold=0.2)\n",
    "        graphons.append((label, graphon))\n",
    "\n",
    "    fig, ax = plt.subplots(1, len(class_graphs), facecolor='w')\n",
    "\n",
    "    fig.subplots_adjust(right=0.8)\n",
    "    cbar_ax = fig.add_axes([0.85, 0.3, 0.05, 0.4])\n",
    "    for (label, graphon), axis in zip(graphons, ax):\n",
    "        print(f\"graphon info: label:{label}; mean: {graphon.mean()}, shape, {graphon.shape}\")\n",
    "        im = axis.imshow(graphon, vmin=0, vmax=1, cmap=plt.cm.plasma)\n",
    "        axis.set_title(label)\n",
    "    fig.colorbar(im, cax=cbar_ax, orientation='vertical', )\n",
    "    fig.suptitle(dataset_name, y=0.2)\n",
    "    plt.savefig('test.png', facecolor='white', bbox_inches='tight')"
   ]
  }
 ],
 "metadata": {
  "kernelspec": {
   "name": "python3",
   "language": "python",
   "display_name": "Python 3"
  },
  "language_info": {
   "codemirror_mode": {
    "name": "ipython",
    "version": 3
   },
   "file_extension": ".py",
   "mimetype": "text/x-python",
   "name": "python",
   "nbconvert_exporter": "python",
   "pygments_lexer": "ipython3",
   "version": "3.8.10"
  }
 },
 "nbformat": 4,
 "nbformat_minor": 1
}
