{
 "cells": [
  {
   "cell_type": "markdown",
   "metadata": {},
   "source": [
    "# The Graphons of Different Class of Graphs in one Dataset are distinctly different"
   ]
  },
  {
   "cell_type": "code",
   "execution_count": 1,
   "metadata": {},
   "outputs": [
    {
     "data": {
      "text/plain": [
       "'1.10.1'"
      ]
     },
     "execution_count": 1,
     "metadata": {},
     "output_type": "execute_result"
    }
   ],
   "source": [
    "import torch\n",
    "torch.__version__"
   ]
  },
  {
   "cell_type": "code",
   "execution_count": 2,
   "metadata": {},
   "outputs": [
    {
     "name": "stdout",
     "output_type": "stream",
     "text": [
      "True\n",
      "1\n",
      "Tesla V100S-PCIE-32GB\n"
     ]
    }
   ],
   "source": [
    "print(torch.cuda.is_available())\n",
    "print(torch.cuda.device_count())\n",
    "print(torch.cuda.get_device_name(0))"
   ]
  },
  {
   "cell_type": "code",
   "execution_count": 3,
   "metadata": {},
   "outputs": [],
   "source": [
    "from torch_geometric.datasets import TUDataset\n",
    "import os.path as osp\n",
    "from gmixup import prepare_dataset_onehot_y\n",
    "from utils import split_class_graphs\n",
    "from graphon_estimator import universal_svd, largest_gap\n",
    "from utils import align_graphs, stat_graph\n",
    "import random\n",
    "import matplotlib.pyplot as plt\n",
    "import matplotlib as mpl"
   ]
  },
  {
   "cell_type": "code",
   "execution_count": 4,
   "metadata": {
    "tags": []
   },
   "outputs": [
    {
     "name": "stdout",
     "output_type": "stream",
     "text": [
      "Median num nodes:  17\n",
      "Finished splitting class graphs\n",
      "Finished aligning graphs of label  [0. 1.]\n",
      "Finished aligning graphs of label  [1. 0.]\n",
      "graphon info: label:[0. 1.]; mean: 0.4060622751712799, shape, (17, 17)\n",
      "graphon info: label:[1. 0.]; mean: 0.4743252694606781, shape, (17, 17)\n",
      "Median num nodes:  304\n",
      "Finished splitting class graphs\n",
      "Finished aligning graphs of label  [0. 1.]\n",
      "Finished aligning graphs of label  [1. 0.]\n",
      "graphon info: label:[0. 1.]; mean: 0.14432887732982635, shape, (15, 15)\n",
      "graphon info: label:[1. 0.]; mean: 0.158311128616333, shape, (15, 15)\n",
      "Median num nodes:  10\n",
      "Finished splitting class graphs\n",
      "Finished aligning graphs of label  [1. 0. 0.]\n",
      "Finished aligning graphs of label  [0. 0. 1.]\n",
      "Finished aligning graphs of label  [0. 1. 0.]\n",
      "graphon info: label:[1. 0. 0.]; mean: 0.4944722354412079, shape, (12, 12)\n",
      "graphon info: label:[0. 0. 1.]; mean: 0.5413889288902283, shape, (12, 12)\n",
      "graphon info: label:[0. 1. 0.]; mean: 0.44858333468437195, shape, (12, 12)\n"
     ]
    },
    {
     "data": {
      "image/png": "[encoded data removed]",
      "text/plain": [
       "<Figure size 400x200 with 2 Axes>"
      ]
     },
     "metadata": {},
     "output_type": "display_data"
    },
    {
     "data": {
      "image/png": "[encoded data removed]",
      "text/plain": [
       "<Figure size 400x200 with 2 Axes>"
      ]
     },
     "metadata": {},
     "output_type": "display_data"
    },
    {
     "data": {
      "image/png": "[encoded data removed]",
      "text/plain": [
       "<Figure size 600x200 with 4 Axes>"
      ]
     },
     "metadata": {},
     "output_type": "display_data"
    }
   ],
   "source": [
    "import numpy as np\n",
    "from mpl_toolkits.axes_grid1 import make_axes_locatable\n",
    "\n",
    "dataset_names = ['IMDB-BINARY', 'REDDIT-BINARY', 'IMDB-MULTI']\n",
    "graphon_sizes = [17, 15, 12]\n",
    "data_path = './'\n",
    "align_max_size = 1000\n",
    "\n",
    "for dataset_name, graphon_size in zip(dataset_names, graphon_sizes):\n",
    "    path = osp.join(data_path, dataset_name)\n",
    "    dataset = TUDataset(path, name=dataset_name)\n",
    "    dataset = list(dataset)\n",
    "\n",
    "    for graph in dataset:\n",
    "        graph.y = graph.y.view(-1)\n",
    "\n",
    "    dataset = prepare_dataset_onehot_y(dataset)\n",
    "    random.seed(1314)\n",
    "    random.shuffle(dataset)\n",
    "    avg_num_nodes, avg_num_edges, avg_density, median_num_nodes, median_num_edges, median_density = stat_graph(\n",
    "        dataset)\n",
    "    print('Median num nodes: ', int(median_num_nodes))\n",
    "    class_graphs = split_class_graphs(dataset)\n",
    "    print('Finished splitting class graphs')\n",
    "    fig, ax = plt.subplots(1, len(class_graphs), figsize=(2*len(class_graphs),2), facecolor='w')\n",
    "    if dataset_name == 'IMDB-MULTI':\n",
    "        fig.subplots_adjust(right=0.9)\n",
    "        cbar_ax = fig.add_axes([0.92, 0.2, 0.02, 0.6])\n",
    "    graphons = []\n",
    "    for label, graphs in class_graphs:\n",
    "        align_graphs_list, normalized_node_degrees, max_num, min_num = align_graphs(\n",
    "            graphs[:align_max_size], padding=True, N=int(graphon_size))\n",
    "        print('Finished aligning graphs of label ', label)\n",
    "        graphon = largest_gap(align_graphs_list, k=graphon_size)\n",
    "        np.fill_diagonal(graphon, 0)  # Confirmed in correspondence with the author\n",
    "        graphons.append((label, graphon))\n",
    "    \n",
    "    for (label, graphon), axis, i in zip(graphons, ax, range(len(graphons))):\n",
    "        print(f\"graphon info: label:{label}; mean: {graphon.mean()}, shape, {graphon.shape}\")\n",
    "        im = axis.imshow(graphon, vmin=0, vmax=1, cmap=plt.cm.plasma)\n",
    "        axis.set_title(f\"Class {i}\", weight=\"bold\")\n",
    "        axis.axis('off')\n",
    "    if dataset_name == 'IMDB-MULTI':\n",
    "        fig.colorbar(im, cax=cbar_ax, orientation='vertical')\n",
    "    fig.suptitle(dataset_name, y=0.1, weight=\"bold\")\n",
    "    plt.savefig(f'../fig/{dataset_name}.png', facecolor='white', bbox_inches='tight')"
   ]
  }
 ],
 "metadata": {
  "kernelspec": {
   "display_name": "Python 3 (ipykernel)",
   "language": "python",
   "name": "python3"
  },
  "language_info": {
   "codemirror_mode": {
    "name": "ipython",
    "version": 3
   },
   "file_extension": ".py",
   "mimetype": "text/x-python",
   "name": "python",
   "nbconvert_exporter": "python",
   "pygments_lexer": "ipython3",
   "version": "3.9.13"
  }
 },
 "nbformat": 4,
 "nbformat_minor": 4
}
