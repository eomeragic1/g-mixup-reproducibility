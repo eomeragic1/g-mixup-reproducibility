{
 "cells": [
  {
   "cell_type": "markdown",
   "source": [
    "# G-Mixup can improve the performance of graph neural networks on various datasets"
   ],
   "metadata": {
    "collapsed": false
   }
  },
  {
   "cell_type": "code",
   "execution_count": null,
   "outputs": [],
   "source": [
    "import random\n",
    "import torch\n",
    "import os.path as osp\n",
    "from torch_geometric.datasets import TUDataset\n",
    "from gmixup import prepare_dataset_onehot_y\n",
    "from utils import stat_graph\n",
    "import numpy as np\n",
    "from src.graphon_estimator import largest_gap\n",
    "from src.utils import split_class_graphs, align_graphs\n",
    "from torch_geometric.loader import DataLoader\n",
    "from src.gmixup import prepare_dataset_x\n",
    "from src.utils import two_graphons_mixup\n",
    "from models import GCN, GIN\n",
    "from src.gmixup import mixup_cross_entropy_loss"
   ],
   "metadata": {
    "collapsed": false
   }
  },
  {
   "cell_type": "code",
   "execution_count": null,
   "metadata": {
    "collapsed": true
   },
   "outputs": [],
   "source": [
    "data_path = './'\n",
    "dataset_names = ['IMDB-BINARY', 'IMDB-MULTI', 'REDDIT-BINARY', 'REDDIT-MULTI-5K', 'REDDIT-MULTI-12K']\n",
    "models = ['GCN', 'GIN']\n",
    "epochs = 300\n",
    "batch_size = 128\n",
    "lr = 0.01\n",
    "num_hidden = 64\n",
    "seeds = [1314, 311098, 271296, 180562, 280466, 50832, 280433, 21022, 0, 546464]\n",
    "no_test_runs = 10\n",
    "lam_range = [0.1, 0.2]\n",
    "aug_ratio = 0.2\n",
    "aug_num = 10\n",
    "augmentations = ['Vanilla', 'G-Mixup']"
   ]
  },
  {
   "cell_type": "code",
   "execution_count": null,
   "outputs": [],
   "source": [
    "device = torch.device('cuda' if torch.cuda.is_available() else 'cpu')\n",
    "print(f'Running device: {device}')"
   ],
   "metadata": {
    "collapsed": false
   }
  },
  {
   "cell_type": "code",
   "execution_count": null,
   "outputs": [],
   "source": [
    "def train(model, train_loader):\n",
    "    model.train()\n",
    "    loss_all = 0\n",
    "    graph_all = 0\n",
    "    for data in train_loader:\n",
    "        # print( \"data.y\", data.y )\n",
    "        data = data.to(device)\n",
    "        optimizer.zero_grad()\n",
    "        output = model(data.x, data.edge_index, data.batch)\n",
    "        y = data.y.view(-1, num_classes)\n",
    "        loss = mixup_cross_entropy_loss(output, y)\n",
    "        loss.backward()\n",
    "        loss_all += loss.item() * data.num_graphs\n",
    "        graph_all += data.num_graphs\n",
    "        optimizer.step()\n",
    "    loss = loss_all / graph_all\n",
    "    return model, loss"
   ],
   "metadata": {
    "collapsed": false
   }
  },
  {
   "cell_type": "code",
   "execution_count": null,
   "outputs": [],
   "source": [
    "def test(model, loader):\n",
    "    model.eval()\n",
    "    correct = 0\n",
    "    total = 0\n",
    "    loss = 0\n",
    "    for data in loader:\n",
    "        data = data.to(device)\n",
    "        output = model(data.x, data.edge_index, data.batch)\n",
    "        pred = output.max(dim=1)[1]\n",
    "        y = data.y.view(-1, num_classes)\n",
    "        loss += mixup_cross_entropy_loss(output, y).item() * data.num_graphs\n",
    "        y = y.max(dim=1)[1]\n",
    "        correct += pred.eq(y).sum().item()\n",
    "        total += data.num_graphs\n",
    "    acc = correct / total\n",
    "    loss = loss / total\n",
    "    return acc, loss"
   ],
   "metadata": {
    "collapsed": false
   }
  },
  {
   "cell_type": "code",
   "execution_count": null,
   "outputs": [],
   "source": [
    "from torch.optim.lr_scheduler import StepLR\n",
    "\n",
    "for dataset_name in dataset_names:\n",
    "    path = osp.join(data_path, dataset_name)\n",
    "    dataset = TUDataset(path, name=dataset_name)\n",
    "    dataset = list(dataset)\n",
    "    for graph in dataset:\n",
    "        graph.y = graph.y.view(-1)\n",
    "\n",
    "    dataset = prepare_dataset_onehot_y(dataset)\n",
    "    train_nums = int(len(dataset) * 0.7)\n",
    "    train_val_nums = int(len(dataset) * 0.8)\n",
    "\n",
    "    avg_num_nodes, avg_num_edges, avg_density, median_num_nodes, median_num_edges, median_density = stat_graph(dataset[:train_nums])\n",
    "    graphon_size = int(median_num_nodes)\n",
    "    print(f\"Avg num nodes of training graphs: {avg_num_nodes}\")\n",
    "    print(f\"Avg num edges of training graphs: {avg_num_edges}\")\n",
    "    print(f\"Avg density of training graphs: {avg_density}\")\n",
    "    print(f\"Median num nodes of training graphs: {median_num_nodes}\")\n",
    "    print(f\"Median num edges of training graphs: {median_num_edges}\")\n",
    "    print(f\"Median density of training graphs: {median_density}\")\n",
    "    for model in models:\n",
    "        for seed in seeds:\n",
    "            torch.manual_seed(seed)\n",
    "            random.seed(seed)\n",
    "            for aug in augmentations:\n",
    "                random.shuffle(dataset)\n",
    "                if aug == 'G-Mixup':\n",
    "                    class_graphs = split_class_graphs(dataset[:train_nums])\n",
    "                    graphons = []\n",
    "                    for label, graphs in class_graphs:\n",
    "                        align_graphs_list, normalized_node_degrees, max_num, min_num = align_graphs(\n",
    "                            graphs, padding=True, N=graphon_size)\n",
    "                        graphon = largest_gap(align_graphs_list, k=graphon_size)\n",
    "                        graphons.append((label, graphon))\n",
    "\n",
    "                    num_sample = int(train_nums * aug_ratio / aug_num)\n",
    "                    lam_list = np.random.uniform(low=lam_range[0], high=lam_range[1], size=(aug_num,))\n",
    "\n",
    "                    random.seed(seed)\n",
    "                    new_graph = []\n",
    "                    for lam in lam_list:\n",
    "                        two_graphons = random.sample(graphons, 2)\n",
    "                        new_graph += two_graphons_mixup(two_graphons, la=lam, num_sample=num_sample)\n",
    "\n",
    "                    new_dataset = new_graph + dataset\n",
    "                    new_train_nums = train_nums + len(new_graph)\n",
    "                    new_train_val_nums = train_val_nums + len(new_graph)\n",
    "                else:\n",
    "                    new_dataset = dataset\n",
    "                    new_train_nums = train_nums\n",
    "                    new_train_val_nums = train_val_nums\n",
    "\n",
    "                dataset = prepare_dataset_x(new_dataset)\n",
    "\n",
    "                num_features = new_dataset[0].x.shape[1]\n",
    "                num_classes = new_dataset[0].y.shape[0]\n",
    "\n",
    "                train_dataset = new_dataset[:new_train_nums]\n",
    "                random.shuffle(train_dataset)\n",
    "                val_dataset = new_dataset[new_train_nums:new_train_val_nums]\n",
    "                test_dataset = new_dataset[new_train_val_nums:]\n",
    "\n",
    "                train_loader = DataLoader(train_dataset, batch_size=batch_size, shuffle=True)\n",
    "                val_loader = DataLoader(val_dataset, batch_size=batch_size)\n",
    "                test_loader = DataLoader(test_dataset, batch_size=batch_size)\n",
    "\n",
    "                if model == \"GIN\":\n",
    "                    model = GIN(num_features=num_features, num_classes=num_classes, num_hidden=num_hidden).to(device)\n",
    "                elif model == \"GCN\":\n",
    "                    model = GCN(in_channels=num_features, hidden_channels=num_hidden, out_channels=num_classes, num_layers=4).to(device)\n",
    "\n",
    "                optimizer = torch.optim.Adam(model.parameters(), lr=lr, weight_decay=5e-4)\n",
    "                scheduler = StepLR(optimizer, step_size=100, gamma=0.5)\n",
    "\n",
    "                max_val_acc = 0\n",
    "                model_test_acc = 0\n",
    "                model_test_loss = 0\n",
    "                model_val_loss = 0\n",
    "                best_epoch = 0\n",
    "                for epoch in range(1, epochs):\n",
    "                    model, train_loss = train(model, train_loader)\n",
    "                    train_acc = 0\n",
    "                    val_acc, val_loss = test(model, val_loader)\n",
    "                    test_acc, test_loss = test(model, test_loader)\n",
    "                    scheduler.step()\n",
    "                    if val_acc > max_val_acc:\n",
    "                        max_val_acc = val_acc\n",
    "                        model_test_loss = test_loss\n",
    "                        model_test_acc = test_acc\n",
    "                        model_val_loss = model_val_loss\n",
    "                        best_epoch = epoch\n",
    "                    if epoch%10 == 0:\n",
    "                        print(\n",
    "                            'Epoch: {:03d}, Train Loss: {:.6f}, Val Loss: {:.6f}, Test Loss: {:.6f},  Val Acc: {: .6f}, Test Acc: {: .6f}'.format(\n",
    "                                epoch, train_loss, val_loss, test_loss, val_acc, test_acc))\n",
    "\n",
    "                with open('train_log.txt', 'a') as f:\n",
    "                    f.write(f'Dataset: {dataset_name}, Model: {model}, Seed: {seed}, Aug: {aug}, Best epoch: {best_epoch}, Test acc: {model_test_acc}, Test loss: {model_test_loss}, Val acc: {max_val_acc}, Val loss: {model_val_loss}\\n')"
   ],
   "metadata": {
    "collapsed": false
   }
  },
  {
   "cell_type": "code",
   "execution_count": null,
   "outputs": [],
   "source": [],
   "metadata": {
    "collapsed": false
   }
  },
  {
   "cell_type": "code",
   "execution_count": null,
   "outputs": [],
   "source": [],
   "metadata": {
    "collapsed": false
   }
  }
 ],
 "metadata": {
  "kernelspec": {
   "display_name": "Python 3",
   "language": "python",
   "name": "python3"
  },
  "language_info": {
   "codemirror_mode": {
    "name": "ipython",
    "version": 2
   },
   "file_extension": ".py",
   "mimetype": "text/x-python",
   "name": "python",
   "nbconvert_exporter": "python",
   "pygments_lexer": "ipython2",
   "version": "2.7.6"
  }
 },
 "nbformat": 4,
 "nbformat_minor": 0
}
