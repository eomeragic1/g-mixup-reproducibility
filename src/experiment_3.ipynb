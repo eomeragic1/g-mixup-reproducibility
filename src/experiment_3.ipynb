{
 "cells": [
  {
   "cell_type": "markdown",
   "metadata": {},
   "source": [
    "# G-Mixup can improve the performance of graph neural networks on various datasets"
   ]
  },
  {
   "cell_type": "code",
   "execution_count": 1,
   "metadata": {
    "collapsed": false,
    "jupyter": {
     "outputs_hidden": false
    }
   },
   "outputs": [],
   "source": [
    "import random\n",
    "import torch\n",
    "import os.path as osp\n",
    "from torch_geometric.datasets import TUDataset\n",
    "from gmixup import prepare_dataset_onehot_y\n",
    "from utils import stat_graph\n",
    "import numpy as np\n",
    "from graphon_estimator import largest_gap\n",
    "from utils import split_class_graphs, align_graphs\n",
    "from torch_geometric.loader import DataLoader\n",
    "from gmixup import prepare_dataset_x\n",
    "from utils import two_graphons_mixup\n",
    "from models import GIN, GCN, DiffPoolNet, TopKNet, MinCutPoolNet\n",
    "from gmixup import mixup_cross_entropy_loss"
   ]
  },
  {
   "cell_type": "code",
   "execution_count": 2,
   "metadata": {},
   "outputs": [],
   "source": [
    "data_path = './'\n",
    "dataset_names = ['REDDIT-BINARY', 'REDDIT-MULTI-5K', 'REDDIT-MULTI-12K']\n",
    "models = ['GCN', 'GIN', 'MinCutPool', 'DiffPool', 'TopKPool']\n",
    "epochs = 300\n",
    "batch_size = 128\n",
    "lr = 0.01\n",
    "num_hidden = 64\n",
    "seeds = [1314, 311098, 271296, 180562, 280466, 50832, 280433, 21022, 0, 546464]\n",
    "no_test_runs = 10\n",
    "lam_range = [0.1, 0.2]\n",
    "aug_ratio = 0.2\n",
    "aug_num = 10\n",
    "augmentations = ['G-Mixup', 'Vanilla']"
   ]
  },
  {
   "cell_type": "code",
   "execution_count": 3,
   "metadata": {
    "collapsed": false,
    "jupyter": {
     "outputs_hidden": false
    }
   },
   "outputs": [
    {
     "name": "stdout",
     "output_type": "stream",
     "text": [
      "Running device: cuda\n"
     ]
    }
   ],
   "source": [
    "device = torch.device('cuda' if torch.cuda.is_available() else 'cpu')\n",
    "print(f'Running device: {device}')"
   ]
  },
  {
   "cell_type": "code",
   "execution_count": 4,
   "metadata": {
    "collapsed": false,
    "jupyter": {
     "outputs_hidden": false
    }
   },
   "outputs": [],
   "source": [
    "def train(model, train_loader):\n",
    "    model.train()\n",
    "    loss_all = 0\n",
    "    graph_all = 0\n",
    "    correct = 0\n",
    "    total = 0\n",
    "    for data in train_loader:\n",
    "        # print( \"data.y\", data.y )\n",
    "        data = data.to(device)\n",
    "        optimizer.zero_grad()\n",
    "        output = model(data.x, data.edge_index, data.batch)\n",
    "        y = data.y.view(-1, num_classes)\n",
    "        #print(y.size())\n",
    "        #print(output.size())\n",
    "        loss = mixup_cross_entropy_loss(output, y)\n",
    "        loss.backward()\n",
    "        loss_all += loss.item() * data.num_graphs\n",
    "        graph_all += data.num_graphs\n",
    "        optimizer.step()\n",
    "        y = y.max(dim=1)[1]\n",
    "        pred = output.max(dim=1)[1]\n",
    "        correct += pred.eq(y).sum().item()\n",
    "        total += data.num_graphs\n",
    "\n",
    "    loss = loss_all / graph_all\n",
    "    acc = correct / total\n",
    "    return model, loss, acc"
   ]
  },
  {
   "cell_type": "code",
   "execution_count": 5,
   "metadata": {
    "collapsed": false,
    "jupyter": {
     "outputs_hidden": false
    }
   },
   "outputs": [],
   "source": [
    "def test(model, loader):\n",
    "    model.eval()\n",
    "    correct = 0\n",
    "    total = 0\n",
    "    loss = 0\n",
    "    for data in loader:\n",
    "        data = data.to(device)\n",
    "        output = model(data.x, data.edge_index, data.batch)\n",
    "        pred = output.max(dim=1)[1]\n",
    "        y = data.y.view(-1, num_classes)\n",
    "        loss += mixup_cross_entropy_loss(output, y).item() * data.num_graphs\n",
    "        y = y.max(dim=1)[1]\n",
    "        correct += pred.eq(y).sum().item()\n",
    "        total += data.num_graphs\n",
    "    acc = correct / total\n",
    "    loss = loss / total\n",
    "    return acc, loss"
   ]
  },
  {
   "cell_type": "code",
   "execution_count": null,
   "metadata": {
    "collapsed": false,
    "jupyter": {
     "outputs_hidden": false
    }
   },
   "outputs": [
    {
     "name": "stdout",
     "output_type": "stream",
     "text": [
      "Avg num nodes of training graphs: 573.1435714285715\n",
      "Avg num edges of training graphs: 662.7285714285714\n",
      "Avg density of training graphs: 0.0020174781648775995\n",
      "Median num edges of training graphs: 896.0\n",
      "Median density of training graphs: 0.005845807052483408\n",
      "Dataset: REDDIT-BINARY, Model: GCN, Seed: 1314, Aug: G-Mixup, Best epoch: 291, Test acc: 0.855, Test loss: 0.33758402824401856, Val acc: 0.89, Val loss: 0.31167617440223694\n",
      "Dataset: REDDIT-BINARY, Model: GCN, Seed: 1314, Aug: Vanilla, Best epoch: 277, Test acc: 0.8661764705882353, Test loss: 0.357357855053509, Val acc: 0.915, Val loss: 0.3326137983798981\n",
      "Dataset: REDDIT-BINARY, Model: GCN, Seed: 311098, Aug: G-Mixup, Best epoch: 122, Test acc: 0.8985294117647059, Test loss: 0.34148074633934916, Val acc: 0.955, Val loss: 0.2615780061483383\n",
      "Dataset: REDDIT-BINARY, Model: GCN, Seed: 311098, Aug: Vanilla, Best epoch: 275, Test acc: 0.834375, Test loss: 0.4429880142211914, Val acc: 0.865, Val loss: 0.38562137603759766\n",
      "Dataset: REDDIT-BINARY, Model: GCN, Seed: 271296, Aug: G-Mixup, Best epoch: 244, Test acc: 0.903125, Test loss: 0.37372302611668906, Val acc: 0.89, Val loss: 0.5271720290184021\n",
      "Dataset: REDDIT-BINARY, Model: GCN, Seed: 271296, Aug: Vanilla, Best epoch: 178, Test acc: 0.8362903225806452, Test loss: 0.48361264005784066, Val acc: 0.87, Val loss: 0.46532037019729616\n",
      "Dataset: REDDIT-BINARY, Model: GCN, Seed: 180562, Aug: G-Mixup, Best epoch: 235, Test acc: 0.885483870967742, Test loss: 0.39388768038442057, Val acc: 0.945, Val loss: 0.35352336764335635\n",
      "Dataset: REDDIT-BINARY, Model: GCN, Seed: 180562, Aug: Vanilla, Best epoch: 283, Test acc: 0.8526315789473684, Test loss: 0.4911520995591816, Val acc: 0.865, Val loss: 0.48265465021133425\n",
      "Dataset: REDDIT-BINARY, Model: GCN, Seed: 280466, Aug: G-Mixup, Best epoch: 269, Test acc: 0.9013157894736842, Test loss: 0.41597377689261184, Val acc: 0.925, Val loss: 0.3789957070350647\n",
      "Dataset: REDDIT-BINARY, Model: GCN, Seed: 280466, Aug: Vanilla, Best epoch: 234, Test acc: 0.8222222222222222, Test loss: 0.5332105647193061, Val acc: 0.845, Val loss: 0.5164208102226258\n",
      "Dataset: REDDIT-BINARY, Model: GCN, Seed: 50832, Aug: G-Mixup, Best epoch: 278, Test acc: 0.9077777777777778, Test loss: 0.4455293069945441, Val acc: 0.91, Val loss: 0.46042165517807004\n",
      "Dataset: REDDIT-BINARY, Model: GCN, Seed: 50832, Aug: Vanilla, Best epoch: 295, Test acc: 0.8951923076923077, Test loss: 0.4451045774496519, Val acc: 0.945, Val loss: 0.41962934970855714\n",
      "Dataset: REDDIT-BINARY, Model: GCN, Seed: 280433, Aug: G-Mixup, Best epoch: 281, Test acc: 0.9019230769230769, Test loss: 0.4592973965864915, Val acc: 0.885, Val loss: 0.43717616677284243\n",
      "Dataset: REDDIT-BINARY, Model: GCN, Seed: 280433, Aug: Vanilla, Best epoch: 260, Test acc: 0.8906779661016949, Test loss: 0.5234859466552735, Val acc: 0.9, Val loss: 0.4714109790325165\n",
      "Dataset: REDDIT-BINARY, Model: GCN, Seed: 21022, Aug: G-Mixup, Best epoch: 244, Test acc: 0.913135593220339, Test loss: 0.43241456605620304, Val acc: 0.95, Val loss: 0.39668465256690977\n",
      "Dataset: REDDIT-BINARY, Model: GCN, Seed: 21022, Aug: Vanilla, Best epoch: 292, Test acc: 0.8871212121212121, Test loss: 0.4931767535932136, Val acc: 0.92, Val loss: 0.44046455502510073\n",
      "Dataset: REDDIT-BINARY, Model: GCN, Seed: 0, Aug: G-Mixup, Best epoch: 296, Test acc: 0.8609848484848485, Test loss: 0.5165503321271954, Val acc: 0.89, Val loss: 0.48353487253189087\n",
      "Dataset: REDDIT-BINARY, Model: GCN, Seed: 0, Aug: Vanilla, Best epoch: 123, Test acc: 0.9013698630136986, Test loss: 0.4849942715200659, Val acc: 0.885, Val loss: 0.5061648488044739\n",
      "Dataset: REDDIT-BINARY, Model: GCN, Seed: 546464, Aug: G-Mixup, Best epoch: 275, Test acc: 0.9068493150684932, Test loss: 0.477636340382981, Val acc: 0.93, Val loss: 0.48567651987075805\n",
      "Dataset: REDDIT-BINARY, Model: GCN, Seed: 546464, Aug: Vanilla, Best epoch: 294, Test acc: 0.8659375, Test loss: 0.53887162566185, Val acc: 0.925, Val loss: 0.5252046632766724\n",
      "Dataset: REDDIT-BINARY, Model: GIN, Seed: 1314, Aug: G-Mixup, Best epoch: 259, Test acc: 0.92875, Test loss: 0.431943359375, Val acc: 0.905, Val loss: 0.4682688534259796\n",
      "Dataset: REDDIT-BINARY, Model: GIN, Seed: 1314, Aug: Vanilla, Best epoch: 213, Test acc: 0.9344827586206896, Test loss: 0.43797213633855187, Val acc: 0.97, Val loss: 0.4108305776119232\n",
      "Dataset: REDDIT-BINARY, Model: GIN, Seed: 311098, Aug: G-Mixup, Best epoch: 282, Test acc: 0.9160919540229885, Test loss: 0.44842751026153566, Val acc: 0.945, Val loss: 0.41352218866348267\n",
      "Dataset: REDDIT-BINARY, Model: GIN, Seed: 311098, Aug: Vanilla, Best epoch: 247, Test acc: 0.9404255319148936, Test loss: 0.4417042744920609, Val acc: 0.965, Val loss: 0.4196527147293091\n",
      "Dataset: REDDIT-BINARY, Model: GIN, Seed: 271296, Aug: G-Mixup, Best epoch: 288, Test acc: 0.925531914893617, Test loss: 0.4493340417425683, Val acc: 0.95, Val loss: 0.4732700943946838\n",
      "Dataset: REDDIT-BINARY, Model: GIN, Seed: 271296, Aug: Vanilla, Best epoch: 205, Test acc: 0.9413366336633663, Test loss: 0.45217702748751876, Val acc: 0.965, Val loss: 0.4221790838241577\n",
      "Dataset: REDDIT-BINARY, Model: GIN, Seed: 180562, Aug: G-Mixup, Best epoch: 273, Test acc: 0.9321782178217822, Test loss: 0.4530876828892396, Val acc: 0.94, Val loss: 0.46707261323928834\n",
      "Dataset: REDDIT-BINARY, Model: GIN, Seed: 180562, Aug: Vanilla, Best epoch: 269, Test acc: 0.944675925925926, Test loss: 0.45635898930055124, Val acc: 0.955, Val loss: 0.4192819082736969\n",
      "Dataset: REDDIT-BINARY, Model: GIN, Seed: 280466, Aug: G-Mixup, Best epoch: 262, Test acc: 0.930324074074074, Test loss: 0.4634731654767637, Val acc: 0.965, Val loss: 0.4049321687221527\n",
      "Dataset: REDDIT-BINARY, Model: GIN, Seed: 280466, Aug: Vanilla, Best epoch: 274, Test acc: 0.9284782608695652, Test loss: 0.4666562164348105, Val acc: 0.94, Val loss: 0.4493315327167511\n",
      "Dataset: REDDIT-BINARY, Model: GIN, Seed: 50832, Aug: G-Mixup, Best epoch: 249, Test acc: 0.9371739130434783, Test loss: 0.4660732324745344, Val acc: 0.955, Val loss: 0.4634740471839905\n",
      "Dataset: REDDIT-BINARY, Model: GIN, Seed: 50832, Aug: Vanilla, Best epoch: 247, Test acc: 0.9344262295081968, Test loss: 0.47378575801849365, Val acc: 0.97, Val loss: 0.4281362509727478\n",
      "Dataset: REDDIT-BINARY, Model: GIN, Seed: 280433, Aug: G-Mixup, Best epoch: 270, Test acc: 0.9338114754098361, Test loss: 0.46857351025596994, Val acc: 0.965, Val loss: 0.45934415817260743\n",
      "Dataset: REDDIT-BINARY, Model: GIN, Seed: 280433, Aug: Vanilla, Best epoch: 228, Test acc: 0.9375968992248062, Test loss: 0.4691132012263749, Val acc: 0.955, Val loss: 0.4517726957798004\n",
      "Dataset: REDDIT-BINARY, Model: GIN, Seed: 21022, Aug: G-Mixup, Best epoch: 295, Test acc: 0.9038759689922481, Test loss: 0.49048186790111453, Val acc: 0.955, Val loss: 0.48504478454589844\n",
      "Dataset: REDDIT-BINARY, Model: GIN, Seed: 21022, Aug: Vanilla, Best epoch: 297, Test acc: 0.9268382352941177, Test loss: 0.5065929984345156, Val acc: 0.97, Val loss: 0.4257379937171936\n",
      "Dataset: REDDIT-BINARY, Model: GIN, Seed: 0, Aug: G-Mixup, Best epoch: 216, Test acc: 0.9075367647058824, Test loss: 0.5070520702530356, Val acc: 0.95, Val loss: 0.4903527057170868\n",
      "Dataset: REDDIT-BINARY, Model: GIN, Seed: 0, Aug: Vanilla, Best epoch: 272, Test acc: 0.9367132867132867, Test loss: 0.4794663111646692, Val acc: 0.95, Val loss: 0.49734209299087523\n",
      "Dataset: REDDIT-BINARY, Model: GIN, Seed: 546464, Aug: G-Mixup, Best epoch: 273, Test acc: 0.9272727272727272, Test loss: 0.4879263984573471, Val acc: 0.945, Val loss: 0.5217651033401489\n",
      "Dataset: REDDIT-BINARY, Model: GIN, Seed: 546464, Aug: Vanilla, Best epoch: 211, Test acc: 0.9418333333333333, Test loss: 0.4877033918698629, Val acc: 0.955, Val loss: 0.4873694610595703\n",
      "Dataset: REDDIT-BINARY, Model: MinCutPool, Seed: 1314, Aug: G-Mixup, Best epoch: 82, Test acc: 0.9243333333333333, Test loss: 0.509821258465449, Val acc: 0.945, Val loss: 0.47331995248794556\n"
     ]
    }
   ],
   "source": [
    "from torch.optim.lr_scheduler import StepLR\n",
    "\n",
    "for dataset_name in dataset_names:\n",
    "    path = osp.join(data_path, dataset_name)\n",
    "    dataset = TUDataset(path, name=dataset_name)\n",
    "    dataset = list(dataset)\n",
    "    for graph in dataset:\n",
    "        graph.y = graph.y.view(-1)\n",
    "\n",
    "    dataset = prepare_dataset_onehot_y(dataset)\n",
    "    train_nums = int(len(dataset) * 0.7)\n",
    "    train_val_nums = int(len(dataset) * 0.8)\n",
    "\n",
    "    avg_num_nodes, avg_num_edges, avg_density, median_num_nodes, median_num_edges, median_density = stat_graph(dataset[:train_nums])\n",
    "    graphon_size = int(median_num_nodes)\n",
    "    print(f\"Avg num nodes of training graphs: {avg_num_nodes}\")\n",
    "    print(f\"Avg num edges of training graphs: {avg_num_edges}\")\n",
    "    print(f\"Avg density of training graphs: {avg_density}\")\n",
    "    print(f\"Median num edges of training graphs: {median_num_edges}\")\n",
    "    print(f\"Median density of training graphs: {median_density}\")\n",
    "    for model_name in models:\n",
    "        for seed in seeds:\n",
    "            torch.manual_seed(seed)\n",
    "            random.seed(seed)\n",
    "            random.shuffle(dataset)\n",
    "            for aug in augmentations:\n",
    "                random.shuffle(dataset)\n",
    "                if aug == 'G-Mixup':\n",
    "                    class_graphs = split_class_graphs(dataset[:train_nums])\n",
    "                    graphons = []\n",
    "                    for label, graphs in class_graphs:\n",
    "                        align_graphs_list, normalized_node_degrees, max_num, min_num = align_graphs(\n",
    "                            graphs, padding=True, N=graphon_size)\n",
    "                        graphon = largest_gap(align_graphs_list, k=graphon_size)\n",
    "                        graphons.append((label, graphon))\n",
    "\n",
    "                    num_sample = int(train_nums * aug_ratio / aug_num)\n",
    "                    lam_list = np.random.uniform(low=lam_range[0], high=lam_range[1], size=(aug_num,))\n",
    "\n",
    "                    random.seed(seed)\n",
    "                    new_graph = []\n",
    "                    for lam in lam_list:\n",
    "                        two_graphons = random.sample(graphons, 2)\n",
    "                        new_graph += two_graphons_mixup(two_graphons, la=lam, num_sample=num_sample)\n",
    "\n",
    "                    new_dataset = new_graph + dataset\n",
    "                    new_train_nums = train_nums + len(new_graph)\n",
    "                    new_train_val_nums = train_val_nums + len(new_graph)\n",
    "                else:\n",
    "                    new_dataset = dataset\n",
    "                    new_train_nums = train_nums\n",
    "                    new_train_val_nums = train_val_nums\n",
    "\n",
    "                dataset = prepare_dataset_x(new_dataset)\n",
    "\n",
    "                num_features = new_dataset[0].x.shape[1]\n",
    "                num_classes = new_dataset[0].y.shape[0]\n",
    "\n",
    "                # avg_num_nodes, avg_num_edges, avg_density, median_num_nodes, median_num_edges, median_density = stat_graph(new_dataset[:new_train_nums])\n",
    "                # print(f\"Avg num nodes of new training graphs: {avg_num_nodes}\")\n",
    "                # print(f\"Avg num edges of new training graphs: {avg_num_edges}\")\n",
    "                # print(f\"Avg density of new training graphs: {avg_density}\")\n",
    "                # print(f\"Median num edges of new training graphs: {median_num_edges}\")\n",
    "                # print(f\"Median density of new training graphs: {median_density}\")\n",
    "                train_dataset = new_dataset[:new_train_nums]\n",
    "                random.shuffle(train_dataset)\n",
    "                val_dataset = new_dataset[new_train_nums:new_train_val_nums]\n",
    "                test_dataset = new_dataset[new_train_val_nums:]\n",
    "\n",
    "                train_loader = DataLoader(train_dataset, batch_size=batch_size, shuffle=True)\n",
    "                val_loader = DataLoader(val_dataset, batch_size=batch_size)\n",
    "                test_loader = DataLoader(test_dataset, batch_size=batch_size)\n",
    "\n",
    "                if model_name == \"GIN\":\n",
    "                    model = GIN(num_features=num_features, num_classes=num_classes, num_hidden=num_hidden).to(device)\n",
    "                elif model_name == \"GCN\":\n",
    "                    model = GCN(in_channels=num_features, hidden_channels=num_hidden, out_channels=num_classes, num_layers=4).to(device)\n",
    "                elif model_name == \"TopKPool\":\n",
    "                    model = TopKNet(in_channels=num_features, hidden_channels=num_hidden, out_channels=num_classes).to(device)\n",
    "                elif model_name == \"DiffPool\":\n",
    "                    model = DiffPoolNet(in_channels=num_features, hidden_channels=num_hidden, out_channels=num_classes, max_nodes = median_num_nodes).to(device)\n",
    "                elif model_name == \"MinCutPool\":\n",
    "                    model = MinCutPoolNet(in_channels=num_features, hidden_channels=num_hidden, out_channels=num_classes, max_nodes = median_num_nodes).to(device)\n",
    "                else:\n",
    "                    model = None\n",
    "\n",
    "                optimizer = torch.optim.Adam(model.parameters(), lr=lr, weight_decay=5e-4)\n",
    "                scheduler = StepLR(optimizer, step_size=100, gamma=0.5)\n",
    "\n",
    "                max_val_acc = 0\n",
    "                model_test_acc = 0\n",
    "                model_test_loss = 0\n",
    "                model_val_loss = 0\n",
    "                best_epoch = 0\n",
    "                train_losses = []\n",
    "                val_losses = []\n",
    "                test_losses = []\n",
    "                for epoch in range(1, epochs):\n",
    "                    model, train_loss, train_acc = train(model, train_loader)\n",
    "                    val_acc, val_loss = test(model, val_loader)\n",
    "                    test_acc, test_loss = test(model, test_loader)\n",
    "                    scheduler.step()\n",
    "                    train_losses.append(train_loss)\n",
    "                    val_losses.append(val_loss)\n",
    "                    test_losses.append(test_loss)\n",
    "                    if val_acc > max_val_acc:\n",
    "                        max_val_acc = val_acc\n",
    "                        model_test_loss = test_loss\n",
    "                        model_test_acc = test_acc\n",
    "                        model_val_loss = val_loss\n",
    "                        best_epoch = epoch\n",
    "                    #if epoch%20==0:\n",
    "                    #    print(\n",
    "                    #        'Epoch: {:03d}, Train Loss: {:.6f}, Val Loss: {:.6f}, Test Loss: {:.6f}, Train acc: {: .6f}, Val Acc: {: .6f}, Test Acc: {: .6f}'.format(\n",
    "                    #            epoch, train_loss, val_loss, test_loss, train_acc, val_acc, test_acc))\n",
    "\n",
    "                with open('train_log.txt', 'a') as f:\n",
    "                    f.write(f'Dataset: {dataset_name}, Model: {model_name}, Seed: {seed}, Aug: {aug}, Best epoch: {best_epoch}, Test acc: {model_test_acc}, Test loss: {model_test_loss}, Val acc: {max_val_acc}, Val loss: {model_val_loss}\\n')\n",
    "                if model_name == 'GCN':\n",
    "                    with open('../results/losses.txt', 'a') as f:\n",
    "                        f.write(f'{dataset_name}, {seed}, train, {train_losses}\\n{dataset_name}, {seed}, val, {val_losses}\\n{dataset_name}, {seed}, test, {test_losses}\\n')\n",
    "                print(f'Dataset: {dataset_name}, Model: {model_name}, Seed: {seed}, Aug: {aug}, Best epoch: {best_epoch}, Test acc: {model_test_acc}, Test loss: {model_test_loss}, Val acc: {max_val_acc}, Val loss: {model_val_loss}')"
   ]
  },
  {
   "cell_type": "code",
   "execution_count": null,
   "metadata": {
    "collapsed": false,
    "jupyter": {
     "outputs_hidden": false
    }
   },
   "outputs": [],
   "source": []
  },
  {
   "cell_type": "code",
   "execution_count": null,
   "metadata": {
    "collapsed": false,
    "jupyter": {
     "outputs_hidden": false
    }
   },
   "outputs": [],
   "source": []
  }
 ],
 "metadata": {
  "kernelspec": {
   "display_name": "Python 3 (ipykernel)",
   "language": "python",
   "name": "python3"
  },
  "language_info": {
   "codemirror_mode": {
    "name": "ipython",
    "version": 3
   },
   "file_extension": ".py",
   "mimetype": "text/x-python",
   "name": "python",
   "nbconvert_exporter": "python",
   "pygments_lexer": "ipython3",
   "version": "3.9.13"
  }
 },
 "nbformat": 4,
 "nbformat_minor": 4
}
