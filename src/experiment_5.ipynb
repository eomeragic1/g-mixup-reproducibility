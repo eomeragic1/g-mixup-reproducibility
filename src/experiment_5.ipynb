{
 "cells": [
  {
   "cell_type": "markdown",
   "source": [
    "# Robustness to topological changes"
   ],
   "metadata": {
    "collapsed": false
   }
  },
  {
   "cell_type": "code",
   "execution_count": 1,
   "metadata": {
    "collapsed": true
   },
   "outputs": [],
   "source": [
    "import copy\n",
    "import random\n",
    "import torch\n",
    "import os.path as osp\n",
    "from torch_geometric.datasets import TUDataset\n",
    "from gmixup import prepare_dataset_onehot_y\n",
    "from utils import stat_graph\n",
    "import numpy as np\n",
    "from graphon_estimator import largest_gap\n",
    "from utils import split_class_graphs, align_graphs\n",
    "from torch_geometric.loader import DataLoader\n",
    "from gmixup import prepare_dataset_x\n",
    "from utils import two_graphons_mixup\n",
    "from models import GIN, GCN, DiffPoolNet, TopKNet, MinCutPoolNet\n",
    "from gmixup import mixup_cross_entropy_loss\n",
    "from src.augmentations import augment_dataset_dropedge, augment_dataset_dropnode, augment_dataset_subgraph\n",
    "from torch.optim.lr_scheduler import StepLR\n",
    "import time"
   ]
  },
  {
   "cell_type": "code",
   "execution_count": 1,
   "outputs": [],
   "source": [
    "data_path = './'\n",
    "dataset_name = 'REDDIT-BINARY'\n",
    "model_name = 'GCN'\n",
    "epochs = 300\n",
    "batch_size = 128\n",
    "lr = 0.01\n",
    "num_hidden = 64\n",
    "seeds = [1314, 11314, 21314, 31314, 41314, 51314, 61314, 71314, 0, 546464]\n",
    "no_test_runs = 10\n",
    "lam_range = [0.1, 0.2]\n",
    "aug_ratio = 0.2\n",
    "aug_num = 10\n",
    "augmentations = ['Vanilla', 'G-Mixup', 'DropEdge']\n",
    "corruption_ratios = [0.1, 0.2, 0.3, 0.4]\n",
    "types = ['Add', 'Remove']"
   ],
   "metadata": {
    "collapsed": false
   }
  },
  {
   "cell_type": "code",
   "execution_count": 3,
   "outputs": [
    {
     "name": "stdout",
     "output_type": "stream",
     "text": [
      "Running device: cpu\n"
     ]
    }
   ],
   "source": [
    "device = torch.device('cuda' if torch.cuda.is_available() else 'cpu')\n",
    "print(f'Running device: {device}')"
   ],
   "metadata": {
    "collapsed": false
   }
  },
  {
   "cell_type": "code",
   "execution_count": null,
   "outputs": [],
   "source": [
    "from pathlib import Path\n",
    "\n",
    "path = Path('../results/train_log_exp5.csv')\n",
    "if not path.is_file():\n",
    "    with open(path, 'w') as f:\n",
    "        f.write('Dataset,CorruptionRate,Seed,Aug,Type,BestEpoch,TestAcc,TestLoss,ValAcc,ValLoss,Device,Time\\n')"
   ],
   "metadata": {
    "collapsed": false
   }
  },
  {
   "cell_type": "code",
   "execution_count": 4,
   "outputs": [],
   "source": [
    "def train(model, train_loader):\n",
    "    model.train()\n",
    "    loss_all = 0\n",
    "    graph_all = 0\n",
    "    correct = 0\n",
    "    total = 0\n",
    "    for data in train_loader:\n",
    "        # print( \"data.y\", data.y )\n",
    "        data = data.to(device)\n",
    "        optimizer.zero_grad()\n",
    "        output = model(data.x, data.edge_index, data.batch)\n",
    "        y = data.y.view(-1, num_classes)\n",
    "        #print(y.size())\n",
    "        #print(output.size())\n",
    "        loss = mixup_cross_entropy_loss(output, y)\n",
    "        loss.backward()\n",
    "        loss_all += loss.item() * data.num_graphs\n",
    "        graph_all += data.num_graphs\n",
    "        optimizer.step()\n",
    "        y = y.max(dim=1)[1]\n",
    "        pred = output.max(dim=1)[1]\n",
    "        correct += pred.eq(y).sum().item()\n",
    "        total += data.num_graphs\n",
    "\n",
    "    loss = loss_all / graph_all\n",
    "    acc = correct / total\n",
    "    return model, loss, acc"
   ],
   "metadata": {
    "collapsed": false
   }
  },
  {
   "cell_type": "code",
   "execution_count": 5,
   "outputs": [],
   "source": [
    "def test(model, loader):\n",
    "    model.eval()\n",
    "    correct = 0\n",
    "    total = 0\n",
    "    loss = 0\n",
    "    for data in loader:\n",
    "        data = data.to(device)\n",
    "        output = model(data.x, data.edge_index, data.batch)\n",
    "        pred = output.max(dim=1)[1]\n",
    "        y = data.y.view(-1, num_classes)\n",
    "        loss += mixup_cross_entropy_loss(output, y).item() * data.num_graphs\n",
    "        y = y.max(dim=1)[1]\n",
    "        correct += pred.eq(y).sum().item()\n",
    "        total += data.num_graphs\n",
    "    acc = correct / total\n",
    "    loss = loss / total\n",
    "    return acc, loss"
   ],
   "metadata": {
    "collapsed": false
   }
  },
  {
   "cell_type": "code",
   "execution_count": 6,
   "outputs": [
    {
     "name": "stdout",
     "output_type": "stream",
     "text": [
      "Avg num nodes of training graphs: 573.1435714285715\n",
      "Avg num edges of training graphs: 662.7285714285714\n",
      "Avg density of training graphs: 0.0020174781648775995\n",
      "Median num edges of training graphs: 896.0\n",
      "Median density of training graphs: 0.005845807052483408\n",
      "Finished epoch 1\n",
      "Finished epoch 2\n",
      "Finished epoch 3\n"
     ]
    },
    {
     "name": "stderr",
     "output_type": "stream",
     "text": [
      "\n",
      "KeyboardInterrupt\n",
      "\n"
     ]
    }
   ],
   "source": [
    "from src.augmentations import augment_dataset_addedge\n",
    "\n",
    "path = osp.join(data_path, dataset_name)\n",
    "dataset = TUDataset(path, name=dataset_name)\n",
    "dataset = list(dataset)\n",
    "for graph in dataset:\n",
    "    graph.y = graph.y.view(-1)\n",
    "\n",
    "dataset = prepare_dataset_onehot_y(dataset)\n",
    "train_nums = int(len(dataset) * 0.7)\n",
    "train_val_nums = int(len(dataset) * 0.8)\n",
    "\n",
    "avg_num_nodes, avg_num_edges, avg_density, median_num_nodes, median_num_edges, median_density = stat_graph(dataset[:train_nums])\n",
    "graphon_size = int(median_num_nodes)\n",
    "print(f\"Avg num nodes of training graphs: {avg_num_nodes}\")\n",
    "print(f\"Avg num edges of training graphs: {avg_num_edges}\")\n",
    "print(f\"Avg density of training graphs: {avg_density}\")\n",
    "print(f\"Median num edges of training graphs: {median_num_edges}\")\n",
    "print(f\"Median density of training graphs: {median_density}\")\n",
    "for seed in seeds:\n",
    "    torch.manual_seed(seed)\n",
    "    random.seed(seed)\n",
    "    random.shuffle(dataset)\n",
    "    for corruption_ratio in corruption_ratios:\n",
    "        for type in types:\n",
    "            for aug in augmentations:\n",
    "                start = time.time()\n",
    "                if aug == 'G-Mixup':\n",
    "                    class_graphs = split_class_graphs(dataset[:train_nums])\n",
    "                    graphons = []\n",
    "                    for label, graphs in class_graphs:\n",
    "                        align_graphs_list, normalized_node_degrees, max_num, min_num, sum_graph = align_graphs(\n",
    "                            graphs, padding=True, N=graphon_size)\n",
    "                        graphon = largest_gap(align_graphs_list, k=graphon_size, sum_graph=sum_graph)\n",
    "                        graphons.append((label, graphon))\n",
    "\n",
    "                    num_sample = int(train_nums * aug_ratio / aug_num)\n",
    "                    lam_list = np.random.uniform(low=lam_range[0], high=lam_range[1], size=(aug_num,))\n",
    "\n",
    "                    random.seed(seed)\n",
    "                    new_graph = []\n",
    "                    for lam in lam_list:\n",
    "                        two_graphons = random.sample(graphons, 2)\n",
    "                        new_graph += two_graphons_mixup(two_graphons, la=lam, num_sample=num_sample)\n",
    "\n",
    "                    new_dataset = new_graph + dataset\n",
    "                    new_train_nums = train_nums + len(new_graph)\n",
    "                    new_train_val_nums = train_val_nums + len(new_graph)\n",
    "                else:\n",
    "                    new_dataset = dataset\n",
    "                    new_train_nums = train_nums\n",
    "                    new_train_val_nums = train_val_nums\n",
    "\n",
    "                new_dataset = prepare_dataset_x(new_dataset)\n",
    "\n",
    "                num_features = new_dataset[0].x.shape[1]\n",
    "                num_classes = new_dataset[0].y.shape[0]\n",
    "\n",
    "                # avg_num_nodes, avg_num_edges, avg_density, median_num_nodes, median_num_edges, median_density = stat_graph(new_dataset[:new_train_nums])\n",
    "                # print(f\"Avg num nodes of new training graphs: {avg_num_nodes}\")\n",
    "                # print(f\"Avg num edges of new training graphs: {avg_num_edges}\")\n",
    "                # print(f\"Avg density of new training graphs: {avg_density}\")\n",
    "                # print(f\"Median num edges of new training graphs: {median_num_edges}\")\n",
    "                # print(f\"Median density of new training graphs: {median_density}\")\n",
    "                train_dataset = new_dataset[:new_train_nums]\n",
    "                random.shuffle(train_dataset)\n",
    "                val_dataset = new_dataset[new_train_nums:new_train_val_nums]\n",
    "                test_dataset = new_dataset[new_train_val_nums:]\n",
    "\n",
    "                train_loader = DataLoader(train_dataset, batch_size=batch_size, shuffle=True)\n",
    "                if type == 'Remove':\n",
    "                    train_loader = augment_dataset_dropedge(copy.deepcopy(train_loader), aug_percent=1, edge_percent=corruption_ratio)\n",
    "                else:\n",
    "                    train_loader = augment_dataset_addedge(copy.deepcopy(train_loader), aug_percent=1, edge_percent=corruption_ratio)\n",
    "                val_loader = DataLoader(val_dataset, batch_size=batch_size)\n",
    "                test_loader = DataLoader(test_dataset, batch_size=batch_size)\n",
    "\n",
    "                if model_name == \"GIN\":\n",
    "                    model = GIN(num_features=num_features, num_classes=num_classes, num_hidden=num_hidden).to(device)\n",
    "                elif model_name == \"GCN\":\n",
    "                    model = GCN(in_channels=num_features, hidden_channels=num_hidden, out_channels=num_classes, num_layers=4).to(device)\n",
    "                elif model_name == \"TopKPool\":\n",
    "                    model = TopKNet(in_channels=num_features, hidden_channels=num_hidden, out_channels=num_classes).to(device)\n",
    "                elif model_name == \"DiffPool\":\n",
    "                    model = DiffPoolNet(in_channels=num_features, hidden_channels=num_hidden, out_channels=num_classes, max_nodes = median_num_nodes).to(device)\n",
    "                elif model_name == \"MinCutPool\":\n",
    "                    model = MinCutPoolNet(in_channels=num_features, hidden_channels=num_hidden, out_channels=num_classes, max_nodes = median_num_nodes).to(device)\n",
    "                else:\n",
    "                    model = None\n",
    "\n",
    "                optimizer = torch.optim.Adam(model.parameters(), lr=lr, weight_decay=5e-4)\n",
    "                scheduler = StepLR(optimizer, step_size=100, gamma=0.5)\n",
    "\n",
    "                max_val_acc = 0\n",
    "                model_test_acc = 0\n",
    "                model_test_loss = 0\n",
    "                model_val_loss = 0\n",
    "                best_epoch = 0\n",
    "                train_losses = []\n",
    "                val_losses = []\n",
    "                test_losses = []\n",
    "                for epoch in range(1, epochs):\n",
    "                    if aug == 'DropEdge':\n",
    "                        new_train_loader = augment_dataset_dropedge(copy.deepcopy(train_loader), aug_percent=0.2)\n",
    "                    else:\n",
    "                        new_train_loader = train_loader\n",
    "                    model, train_loss, train_acc = train(model, new_train_loader)\n",
    "                    val_acc, val_loss = test(model, val_loader)\n",
    "                    test_acc, test_loss = test(model, test_loader)\n",
    "                    scheduler.step()\n",
    "                    train_losses.append(train_loss)\n",
    "                    val_losses.append(val_loss)\n",
    "                    test_losses.append(test_loss)\n",
    "                    print(f'Finished epoch {epoch}')\n",
    "                    if val_acc > max_val_acc:\n",
    "                        max_val_acc = val_acc\n",
    "                        model_test_loss = test_loss\n",
    "                        model_test_acc = test_acc\n",
    "                        model_val_loss = val_loss\n",
    "                        best_epoch = epoch\n",
    "                    #if epoch%20==0:\n",
    "                    #    print(\n",
    "                    #        'Epoch: {:03d}, Train Loss: {:.6f}, Val Loss: {:.6f}, Test Loss: {:.6f}, Train acc: {: .6f}, Val Acc: {: .6f}, Test Acc: {: .6f}'.format(\n",
    "                    #            epoch, train_loss, val_loss, test_loss, train_acc, val_acc, test_acc))\n",
    "\n",
    "                end = time.time()\n",
    "                total_time = f'{end-start:.2f}'\n",
    "                with open('../results/train_log_exp5.csv', 'a') as f:\n",
    "                    f.write(f'{dataset_name},{corruption_ratio:.1f},{seed},{aug},{type},{best_epoch},{model_test_acc:.6f},{model_test_loss:.4f},{max_val_acc:.6f},{model_val_loss:.4f},{device},{total_time}\\n')\n",
    "                print(f'Dataset: {dataset_name}, Corruption_ratio: {corruption_ratio}, Seed: {seed}, Aug: {aug}, Type: {type}, Best epoch: {best_epoch}, Test acc: {model_test_acc}, Test loss: {model_test_loss}, Val acc: {max_val_acc}, Val loss: {model_val_loss}')"
   ],
   "metadata": {
    "collapsed": false
   }
  }
 ],
 "metadata": {
  "kernelspec": {
   "display_name": "Python 3",
   "language": "python",
   "name": "python3"
  },
  "language_info": {
   "codemirror_mode": {
    "name": "ipython",
    "version": 2
   },
   "file_extension": ".py",
   "mimetype": "text/x-python",
   "name": "python",
   "nbconvert_exporter": "python",
   "pygments_lexer": "ipython2",
   "version": "2.7.6"
  }
 },
 "nbformat": 4,
 "nbformat_minor": 0
}
